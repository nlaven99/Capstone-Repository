{
 "cells": [
  {
   "cell_type": "code",
   "execution_count": 42,
   "id": "b48b07a7",
   "metadata": {},
   "outputs": [],
   "source": [
    "import pandas as pd\n",
    "import numpy as np\n",
    "import glob\n",
    "import json\n",
    "import seaborn as sns\n",
    "from tqdm import tqdm\n",
    "import matplotlib.pyplot as plt\n",
    "from sklearn import naive_bayes\n",
    "from sklearn.preprocessing import StandardScaler\n",
    "from sklearn.linear_model import LogisticRegression, LogisticRegressionCV\n",
    "from sklearn.model_selection import train_test_split, cross_val_score, GridSearchCV\n",
    "from sklearn.tree import DecisionTreeClassifier\n",
    "from sklearn.ensemble import RandomForestClassifier\n",
    "from sklearn.metrics import classification_report, confusion_matrix\n",
    "import scikitplot as skplt\n",
    "from matplotlib.colors import ListedColormap\n",
    "from sklearn.neighbors import KNeighborsClassifier\n",
    "from sklearn.metrics import accuracy_score\n",
    "import scipy.stats as stats\n",
    "cmap = ListedColormap(sns.color_palette(\"husl\", len(gs_RF.classes_)))"
   ]
  },
  {
   "cell_type": "code",
   "execution_count": 2,
   "id": "ace0a24a",
   "metadata": {},
   "outputs": [],
   "source": [
    "# using the glob package, read each json file in each match folder\n",
    "# can't put all the match files in the same one as some have the same names\n",
    "# read each file as a dataframe and then concatenate to make one big one for all files in a folder\n",
    "\n",
    "all_files_11 = glob.glob('/Users/nicklavender/Desktop/DSI20-lessons/open-data/data/matches/11/*')\n",
    "df_11_temp = (pd.read_json(file) for file in all_files_11)\n",
    "df_11 = pd.concat(df_11_temp)\n",
    "\n",
    "all_files_2 = glob.glob('/Users/nicklavender/Desktop/DSI20-lessons/open-data/data/matches/2/*')\n",
    "df_2_temp = (pd.read_json(file) for file in all_files_2)\n",
    "df_2 = pd.concat(df_2_temp)\n",
    "\n",
    "all_files_16 = glob.glob('/Users/nicklavender/Desktop/DSI20-lessons/open-data/data/matches/16/*')\n",
    "df_16_temp = (pd.read_json(file) for file in all_files_16)\n",
    "df_16 = pd.concat(df_16_temp)\n",
    "\n",
    "all_files_37 = glob.glob('/Users/nicklavender/Desktop/DSI20-lessons/open-data/data/matches/37/*')\n",
    "df_37_temp = (pd.read_json(file) for file in all_files_37)\n",
    "df_37 = pd.concat(df_37_temp)\n",
    "\n",
    "all_files_43 = glob.glob('/Users/nicklavender/Desktop/DSI20-lessons/open-data/data/matches/43/*')\n",
    "df_43_temp = (pd.read_json(file) for file in all_files_43)\n",
    "df_43 = pd.concat(df_43_temp)\n",
    "\n",
    "all_files_49 = glob.glob('/Users/nicklavender/Desktop/DSI20-lessons/open-data/data/matches/49/*')\n",
    "df_49_temp = (pd.read_json(file) for file in all_files_49)\n",
    "df_49 = pd.concat(df_49_temp)\n",
    "\n",
    "all_files_55 = glob.glob('/Users/nicklavender/Desktop/DSI20-lessons/open-data/data/matches/55/*')\n",
    "df_55_temp = (pd.read_json(file) for file in all_files_55)\n",
    "df_55 = pd.concat(df_55_temp)\n",
    "\n",
    "all_files_72 = glob.glob('/Users/nicklavender/Desktop/DSI20-lessons/open-data/data/matches/72/*')\n",
    "df_72_temp = (pd.read_json(file) for file in all_files_72)\n",
    "df_72 = pd.concat(df_72_temp)"
   ]
  },
  {
   "cell_type": "code",
   "execution_count": 3,
   "id": "5300c79b",
   "metadata": {},
   "outputs": [
    {
     "data": {
      "text/html": [
       "<div>\n",
       "<style scoped>\n",
       "    .dataframe tbody tr th:only-of-type {\n",
       "        vertical-align: middle;\n",
       "    }\n",
       "\n",
       "    .dataframe tbody tr th {\n",
       "        vertical-align: top;\n",
       "    }\n",
       "\n",
       "    .dataframe thead th {\n",
       "        text-align: right;\n",
       "    }\n",
       "</style>\n",
       "<table border=\"1\" class=\"dataframe\">\n",
       "  <thead>\n",
       "    <tr style=\"text-align: right;\">\n",
       "      <th></th>\n",
       "      <th>index</th>\n",
       "      <th>match_id</th>\n",
       "      <th>match_date</th>\n",
       "      <th>kick_off</th>\n",
       "      <th>competition</th>\n",
       "      <th>season</th>\n",
       "      <th>home_team</th>\n",
       "      <th>away_team</th>\n",
       "      <th>home_score</th>\n",
       "      <th>away_score</th>\n",
       "      <th>match_status</th>\n",
       "      <th>match_status_360</th>\n",
       "      <th>last_updated</th>\n",
       "      <th>last_updated_360</th>\n",
       "      <th>metadata</th>\n",
       "      <th>match_week</th>\n",
       "      <th>competition_stage</th>\n",
       "      <th>stadium</th>\n",
       "      <th>referee</th>\n",
       "    </tr>\n",
       "  </thead>\n",
       "  <tbody>\n",
       "    <tr>\n",
       "      <th>0</th>\n",
       "      <td>0</td>\n",
       "      <td>3749052</td>\n",
       "      <td>2004-02-07</td>\n",
       "      <td>16:00:00.000</td>\n",
       "      <td>{'competition_id': 2, 'country_name': 'England...</td>\n",
       "      <td>{'season_id': 44, 'season_name': '2003/2004'}</td>\n",
       "      <td>{'home_team_id': 46, 'home_team_name': 'Wolver...</td>\n",
       "      <td>{'away_team_id': 1, 'away_team_name': 'Arsenal...</td>\n",
       "      <td>1</td>\n",
       "      <td>3</td>\n",
       "      <td>available</td>\n",
       "      <td>scheduled</td>\n",
       "      <td>2020-07-29T05:00</td>\n",
       "      <td>2021-06-13T16:17:31.694</td>\n",
       "      <td>{'data_version': '1.1.0', 'shot_fidelity_versi...</td>\n",
       "      <td>2</td>\n",
       "      <td>{'id': 1, 'name': 'Regular Season'}</td>\n",
       "      <td>{'id': 217, 'name': 'Molineux Stadium (Wolverh...</td>\n",
       "      <td>NaN</td>\n",
       "    </tr>\n",
       "    <tr>\n",
       "      <th>1</th>\n",
       "      <td>1</td>\n",
       "      <td>3749522</td>\n",
       "      <td>2003-12-26</td>\n",
       "      <td>13:00:00.000</td>\n",
       "      <td>{'competition_id': 2, 'country_name': 'England...</td>\n",
       "      <td>{'season_id': 44, 'season_name': '2003/2004'}</td>\n",
       "      <td>{'home_team_id': 1, 'home_team_name': 'Arsenal...</td>\n",
       "      <td>{'away_team_id': 46, 'away_team_name': 'Wolver...</td>\n",
       "      <td>3</td>\n",
       "      <td>0</td>\n",
       "      <td>available</td>\n",
       "      <td>scheduled</td>\n",
       "      <td>2020-07-29T05:00</td>\n",
       "      <td>2021-06-13T16:17:31.694</td>\n",
       "      <td>{'data_version': '1.1.0', 'shot_fidelity_versi...</td>\n",
       "      <td>18</td>\n",
       "      <td>{'id': 1, 'name': 'Regular Season'}</td>\n",
       "      <td>{'id': 1000243, 'name': 'Highbury Stadium', 'c...</td>\n",
       "      <td>NaN</td>\n",
       "    </tr>\n",
       "    <tr>\n",
       "      <th>2</th>\n",
       "      <td>2</td>\n",
       "      <td>3749246</td>\n",
       "      <td>2004-03-28</td>\n",
       "      <td>17:05:00.000</td>\n",
       "      <td>{'competition_id': 2, 'country_name': 'England...</td>\n",
       "      <td>{'season_id': 44, 'season_name': '2003/2004'}</td>\n",
       "      <td>{'home_team_id': 1, 'home_team_name': 'Arsenal...</td>\n",
       "      <td>{'away_team_id': 39, 'away_team_name': 'Manche...</td>\n",
       "      <td>1</td>\n",
       "      <td>1</td>\n",
       "      <td>available</td>\n",
       "      <td>scheduled</td>\n",
       "      <td>2020-07-29T05:00</td>\n",
       "      <td>2021-06-13T16:17:31.694</td>\n",
       "      <td>{'data_version': '1.1.0', 'shot_fidelity_versi...</td>\n",
       "      <td>30</td>\n",
       "      <td>{'id': 1, 'name': 'Regular Season'}</td>\n",
       "      <td>{'id': 1000243, 'name': 'Highbury Stadium', 'c...</td>\n",
       "      <td>NaN</td>\n",
       "    </tr>\n",
       "    <tr>\n",
       "      <th>3</th>\n",
       "      <td>3</td>\n",
       "      <td>3749257</td>\n",
       "      <td>2004-05-15</td>\n",
       "      <td>16:00:00.000</td>\n",
       "      <td>{'competition_id': 2, 'country_name': 'England...</td>\n",
       "      <td>{'season_id': 44, 'season_name': '2003/2004'}</td>\n",
       "      <td>{'home_team_id': 1, 'home_team_name': 'Arsenal...</td>\n",
       "      <td>{'away_team_id': 22, 'away_team_name': 'Leices...</td>\n",
       "      <td>2</td>\n",
       "      <td>1</td>\n",
       "      <td>available</td>\n",
       "      <td>scheduled</td>\n",
       "      <td>2020-08-30T08:12:14.579037</td>\n",
       "      <td>2021-06-13T16:17:31.694</td>\n",
       "      <td>{'data_version': '1.1.0', 'shot_fidelity_versi...</td>\n",
       "      <td>38</td>\n",
       "      <td>{'id': 1, 'name': 'Regular Season'}</td>\n",
       "      <td>{'id': 1000243, 'name': 'Highbury Stadium', 'c...</td>\n",
       "      <td>NaN</td>\n",
       "    </tr>\n",
       "    <tr>\n",
       "      <th>4</th>\n",
       "      <td>4</td>\n",
       "      <td>3749642</td>\n",
       "      <td>2004-02-28</td>\n",
       "      <td>16:00:00.000</td>\n",
       "      <td>{'competition_id': 2, 'country_name': 'England...</td>\n",
       "      <td>{'season_id': 44, 'season_name': '2003/2004'}</td>\n",
       "      <td>{'home_team_id': 1, 'home_team_name': 'Arsenal...</td>\n",
       "      <td>{'away_team_id': 75, 'away_team_name': 'Charlt...</td>\n",
       "      <td>2</td>\n",
       "      <td>1</td>\n",
       "      <td>available</td>\n",
       "      <td>scheduled</td>\n",
       "      <td>2020-07-29T05:00</td>\n",
       "      <td>2021-06-13T16:17:31.694</td>\n",
       "      <td>{'data_version': '1.1.0', 'shot_fidelity_versi...</td>\n",
       "      <td>27</td>\n",
       "      <td>{'id': 1, 'name': 'Regular Season'}</td>\n",
       "      <td>{'id': 1000243, 'name': 'Highbury Stadium', 'c...</td>\n",
       "      <td>NaN</td>\n",
       "    </tr>\n",
       "  </tbody>\n",
       "</table>\n",
       "</div>"
      ],
      "text/plain": [
       "   index  match_id  match_date      kick_off  \\\n",
       "0      0   3749052  2004-02-07  16:00:00.000   \n",
       "1      1   3749522  2003-12-26  13:00:00.000   \n",
       "2      2   3749246  2004-03-28  17:05:00.000   \n",
       "3      3   3749257  2004-05-15  16:00:00.000   \n",
       "4      4   3749642  2004-02-28  16:00:00.000   \n",
       "\n",
       "                                         competition  \\\n",
       "0  {'competition_id': 2, 'country_name': 'England...   \n",
       "1  {'competition_id': 2, 'country_name': 'England...   \n",
       "2  {'competition_id': 2, 'country_name': 'England...   \n",
       "3  {'competition_id': 2, 'country_name': 'England...   \n",
       "4  {'competition_id': 2, 'country_name': 'England...   \n",
       "\n",
       "                                          season  \\\n",
       "0  {'season_id': 44, 'season_name': '2003/2004'}   \n",
       "1  {'season_id': 44, 'season_name': '2003/2004'}   \n",
       "2  {'season_id': 44, 'season_name': '2003/2004'}   \n",
       "3  {'season_id': 44, 'season_name': '2003/2004'}   \n",
       "4  {'season_id': 44, 'season_name': '2003/2004'}   \n",
       "\n",
       "                                           home_team  \\\n",
       "0  {'home_team_id': 46, 'home_team_name': 'Wolver...   \n",
       "1  {'home_team_id': 1, 'home_team_name': 'Arsenal...   \n",
       "2  {'home_team_id': 1, 'home_team_name': 'Arsenal...   \n",
       "3  {'home_team_id': 1, 'home_team_name': 'Arsenal...   \n",
       "4  {'home_team_id': 1, 'home_team_name': 'Arsenal...   \n",
       "\n",
       "                                           away_team  home_score  away_score  \\\n",
       "0  {'away_team_id': 1, 'away_team_name': 'Arsenal...           1           3   \n",
       "1  {'away_team_id': 46, 'away_team_name': 'Wolver...           3           0   \n",
       "2  {'away_team_id': 39, 'away_team_name': 'Manche...           1           1   \n",
       "3  {'away_team_id': 22, 'away_team_name': 'Leices...           2           1   \n",
       "4  {'away_team_id': 75, 'away_team_name': 'Charlt...           2           1   \n",
       "\n",
       "  match_status match_status_360                last_updated  \\\n",
       "0    available        scheduled            2020-07-29T05:00   \n",
       "1    available        scheduled            2020-07-29T05:00   \n",
       "2    available        scheduled            2020-07-29T05:00   \n",
       "3    available        scheduled  2020-08-30T08:12:14.579037   \n",
       "4    available        scheduled            2020-07-29T05:00   \n",
       "\n",
       "          last_updated_360                                           metadata  \\\n",
       "0  2021-06-13T16:17:31.694  {'data_version': '1.1.0', 'shot_fidelity_versi...   \n",
       "1  2021-06-13T16:17:31.694  {'data_version': '1.1.0', 'shot_fidelity_versi...   \n",
       "2  2021-06-13T16:17:31.694  {'data_version': '1.1.0', 'shot_fidelity_versi...   \n",
       "3  2021-06-13T16:17:31.694  {'data_version': '1.1.0', 'shot_fidelity_versi...   \n",
       "4  2021-06-13T16:17:31.694  {'data_version': '1.1.0', 'shot_fidelity_versi...   \n",
       "\n",
       "   match_week                    competition_stage  \\\n",
       "0           2  {'id': 1, 'name': 'Regular Season'}   \n",
       "1          18  {'id': 1, 'name': 'Regular Season'}   \n",
       "2          30  {'id': 1, 'name': 'Regular Season'}   \n",
       "3          38  {'id': 1, 'name': 'Regular Season'}   \n",
       "4          27  {'id': 1, 'name': 'Regular Season'}   \n",
       "\n",
       "                                             stadium referee  \n",
       "0  {'id': 217, 'name': 'Molineux Stadium (Wolverh...     NaN  \n",
       "1  {'id': 1000243, 'name': 'Highbury Stadium', 'c...     NaN  \n",
       "2  {'id': 1000243, 'name': 'Highbury Stadium', 'c...     NaN  \n",
       "3  {'id': 1000243, 'name': 'Highbury Stadium', 'c...     NaN  \n",
       "4  {'id': 1000243, 'name': 'Highbury Stadium', 'c...     NaN  "
      ]
     },
     "execution_count": 3,
     "metadata": {},
     "output_type": "execute_result"
    }
   ],
   "source": [
    "# concat the individual folder dfs to make a complete one\n",
    "#reset index as it goes by each file at the moment\n",
    "df_final_unflat = pd.concat([df_2,df_11,df_16,df_37,df_43,df_49,df_55,df_72])\n",
    "df_final_unflat.reset_index(inplace=True)\n",
    "df_final_unflat.head()"
   ]
  },
  {
   "cell_type": "code",
   "execution_count": 4,
   "id": "096fd5c8",
   "metadata": {},
   "outputs": [],
   "source": [
    "# create empty lists for desired information from competition file\n",
    "# loop through each row and append the predictor dictionary values to the lists\n",
    "h_team_names = []\n",
    "h_team_gender = []\n",
    "h_team_countries = []\n",
    "a_team_names = []\n",
    "a_team_gender = []\n",
    "a_team_countries = []\n",
    "seasons = []\n",
    "competitions = []\n",
    "\n",
    "for x in range(0,len(df_final_unflat)):\n",
    "    h_team_names.append(df_final_unflat['home_team'][x]['home_team_name'])\n",
    "    h_team_gender.append(df_final_unflat['home_team'][x]['home_team_gender'])\n",
    "    h_team_countries.append(df_final_unflat['home_team'][x]['country']['name'])\n",
    "    a_team_names.append(df_final_unflat['away_team'][x]['away_team_name'])\n",
    "    a_team_gender.append(df_final_unflat['away_team'][x]['away_team_gender'])\n",
    "    a_team_countries.append(df_final_unflat['away_team'][x]['country']['name'])\n",
    "    seasons.append(df_final_unflat['season'][x]['season_name'])\n",
    "    competitions.append(df_final_unflat['competition'][x]['competition_name'])"
   ]
  },
  {
   "cell_type": "code",
   "execution_count": 5,
   "id": "12fce849",
   "metadata": {},
   "outputs": [],
   "source": [
    "# some information unavaliable\n",
    "# the try/except statement appends nans to rows with missing values\n",
    "h_team_managers = []\n",
    "h_manager_countries = []\n",
    "a_team_managers = []\n",
    "a_manager_countries = []\n",
    "referee_nationalities = []\n",
    "\n",
    "for x in range(0,len(df_final_unflat)):\n",
    "    try:\n",
    "        h_team_managers.append(df_final_unflat['home_team'][x]['managers'][0]['name'])\n",
    "        h_manager_countries.append(df_final_unflat['home_team'][x]['managers'][0]['country']['name'])\n",
    "        a_team_managers.append(df_final_unflat['away_team'][x]['managers'][0]['name'])\n",
    "        a_manager_countries.append(df_final_unflat['away_team'][x]['managers'][0]['country']['name'])\n",
    "        referee_nationalities.append(df_final_unflat['referee'][x]['country']['name'])\n",
    "    except:\n",
    "        h_team_managers.append(np.nan)\n",
    "        h_manager_countries.append(np.nan)\n",
    "        a_team_managers.append(np.nan)\n",
    "        a_manager_countries.append(np.nan)\n",
    "        referee_nationalities.append(np.nan)"
   ]
  },
  {
   "cell_type": "code",
   "execution_count": 6,
   "id": "6895a23e",
   "metadata": {},
   "outputs": [
    {
     "data": {
      "text/html": [
       "<div>\n",
       "<style scoped>\n",
       "    .dataframe tbody tr th:only-of-type {\n",
       "        vertical-align: middle;\n",
       "    }\n",
       "\n",
       "    .dataframe tbody tr th {\n",
       "        vertical-align: top;\n",
       "    }\n",
       "\n",
       "    .dataframe thead th {\n",
       "        text-align: right;\n",
       "    }\n",
       "</style>\n",
       "<table border=\"1\" class=\"dataframe\">\n",
       "  <thead>\n",
       "    <tr style=\"text-align: right;\">\n",
       "      <th></th>\n",
       "      <th>match_date</th>\n",
       "      <th>competition</th>\n",
       "      <th>season</th>\n",
       "      <th>referee_nationality</th>\n",
       "      <th>home_score</th>\n",
       "      <th>away_score</th>\n",
       "      <th>home_team</th>\n",
       "      <th>away_team</th>\n",
       "      <th>match_id</th>\n",
       "    </tr>\n",
       "  </thead>\n",
       "  <tbody>\n",
       "    <tr>\n",
       "      <th>0</th>\n",
       "      <td>2004-02-07</td>\n",
       "      <td>Premier League</td>\n",
       "      <td>2003/2004</td>\n",
       "      <td>NaN</td>\n",
       "      <td>1</td>\n",
       "      <td>3</td>\n",
       "      <td>Wolverhampton Wanderers</td>\n",
       "      <td>Arsenal</td>\n",
       "      <td>3749052</td>\n",
       "    </tr>\n",
       "    <tr>\n",
       "      <th>1</th>\n",
       "      <td>2003-12-26</td>\n",
       "      <td>Premier League</td>\n",
       "      <td>2003/2004</td>\n",
       "      <td>NaN</td>\n",
       "      <td>3</td>\n",
       "      <td>0</td>\n",
       "      <td>Arsenal</td>\n",
       "      <td>Wolverhampton Wanderers</td>\n",
       "      <td>3749522</td>\n",
       "    </tr>\n",
       "    <tr>\n",
       "      <th>2</th>\n",
       "      <td>2004-03-28</td>\n",
       "      <td>Premier League</td>\n",
       "      <td>2003/2004</td>\n",
       "      <td>NaN</td>\n",
       "      <td>1</td>\n",
       "      <td>1</td>\n",
       "      <td>Arsenal</td>\n",
       "      <td>Manchester United</td>\n",
       "      <td>3749246</td>\n",
       "    </tr>\n",
       "    <tr>\n",
       "      <th>3</th>\n",
       "      <td>2004-05-15</td>\n",
       "      <td>Premier League</td>\n",
       "      <td>2003/2004</td>\n",
       "      <td>NaN</td>\n",
       "      <td>2</td>\n",
       "      <td>1</td>\n",
       "      <td>Arsenal</td>\n",
       "      <td>Leicester City</td>\n",
       "      <td>3749257</td>\n",
       "    </tr>\n",
       "    <tr>\n",
       "      <th>4</th>\n",
       "      <td>2004-02-28</td>\n",
       "      <td>Premier League</td>\n",
       "      <td>2003/2004</td>\n",
       "      <td>NaN</td>\n",
       "      <td>2</td>\n",
       "      <td>1</td>\n",
       "      <td>Arsenal</td>\n",
       "      <td>Charlton Athletic</td>\n",
       "      <td>3749642</td>\n",
       "    </tr>\n",
       "  </tbody>\n",
       "</table>\n",
       "</div>"
      ],
      "text/plain": [
       "   match_date     competition     season referee_nationality  home_score  \\\n",
       "0  2004-02-07  Premier League  2003/2004                 NaN           1   \n",
       "1  2003-12-26  Premier League  2003/2004                 NaN           3   \n",
       "2  2004-03-28  Premier League  2003/2004                 NaN           1   \n",
       "3  2004-05-15  Premier League  2003/2004                 NaN           2   \n",
       "4  2004-02-28  Premier League  2003/2004                 NaN           2   \n",
       "\n",
       "   away_score                home_team                away_team  match_id  \n",
       "0           3  Wolverhampton Wanderers                  Arsenal   3749052  \n",
       "1           0                  Arsenal  Wolverhampton Wanderers   3749522  \n",
       "2           1                  Arsenal        Manchester United   3749246  \n",
       "3           1                  Arsenal           Leicester City   3749257  \n",
       "4           1                  Arsenal        Charlton Athletic   3749642  "
      ]
     },
     "execution_count": 6,
     "metadata": {},
     "output_type": "execute_result"
    }
   ],
   "source": [
    "# use all the created lists to create some columns of the final df\n",
    "\n",
    "df_final_comp_info = pd.DataFrame()\n",
    "df_final_comp_info['match_date']=df_final_unflat['match_date'].values\n",
    "df_final_comp_info['competition']=competitions\n",
    "df_final_comp_info['season']=seasons\n",
    "df_final_comp_info['referee_nationality']=referee_nationalities\n",
    "df_final_comp_info['home_score']=df_final_unflat['home_score'].values\n",
    "df_final_comp_info['away_score']=df_final_unflat['away_score'].values\n",
    "df_final_comp_info['home_team']=h_team_names\n",
    "df_final_comp_info['away_team']=a_team_names\n",
    "df_final_comp_info['match_id']=df_final_unflat['match_id']\n",
    "df_final_comp_info.head()"
   ]
  },
  {
   "cell_type": "code",
   "execution_count": 7,
   "id": "cd358dce",
   "metadata": {},
   "outputs": [],
   "source": [
    "# use an f string to make a list of all the individual match ids\n",
    "event_files = [f'{x}' for x in df_final_comp_info['match_id']]"
   ]
  },
  {
   "cell_type": "code",
   "execution_count": 8,
   "id": "61055c64",
   "metadata": {},
   "outputs": [
    {
     "name": "stderr",
     "output_type": "stream",
     "text": [
      "100%|██████████| 1095/1095 [16:54<00:00,  1.08it/s] \n"
     ]
    }
   ],
   "source": [
    "# create an empty list, then for each event file, append the corresponding df\n",
    "# make the file dataframe the value and have the match id as the key\n",
    "match_events = []\n",
    "for z in tqdm(event_files):\n",
    "    q = pd.read_json(f'/Users/nicklavender/Desktop/DSI20-lessons/open-data/data/events/{z}.json')\n",
    "    match_events.append(q)"
   ]
  },
  {
   "cell_type": "code",
   "execution_count": 9,
   "id": "a95358ef",
   "metadata": {},
   "outputs": [],
   "source": [
    "# function to summarise the home team statistics needed as predictors from the match event files\n",
    "# outputs a list of single df rows\n",
    "\n",
    "def df_collapse_home_team_events(df):\n",
    "    # empty list for event types and possession teams for input df\n",
    "    event_types = []\n",
    "    possession_teams = []\n",
    "    # loop through each row\n",
    "    for x in range(0,len(df)):\n",
    "        # append only first half events\n",
    "        if df['type'][x]['name'] != 'Half End':\n",
    "            # append neccessary info\n",
    "            event_types.append(df['type'][x]['name'])\n",
    "            possession_teams.append(df['possession_team'][x]['name'])\n",
    "        if df['type'][x]['name'] == 'Half End':\n",
    "            break\n",
    "    # create a new df with the events and their corresponding team\n",
    "    new_df = pd.DataFrame(event_types, columns=['event'])\n",
    "    new_df['possession_team']=possession_teams\n",
    "    # create new df for events by each home team\n",
    "    # home team always has a Starting XI event first, seen by the boolean mask condition\n",
    "    df_home_team = new_df[new_df['possession_team']==df['possession_team'][0]['name']]\n",
    "    # turn value count data into a dictionary\n",
    "    home_team_events = df_home_team['event'].value_counts().to_dict()\n",
    "    # take count of each event type and transpose so they are columns not rows\n",
    "    df_final_home_team = pd.DataFrame.from_dict(home_team_events,orient='index').T\n",
    "    # rename columns by adding the home_team_ prefix to the df column names\n",
    "    df_final_home_team.columns = ['home_team_' + str(col) for col in df_final_home_team.columns]\n",
    "    return df_final_home_team"
   ]
  },
  {
   "cell_type": "code",
   "execution_count": 10,
   "id": "2820c163",
   "metadata": {},
   "outputs": [],
   "source": [
    "# function to summarise the away team statistics needed as predictors from the match event files\n",
    "# identical to home team function but arranged for away teamz\n",
    "\n",
    "def df_collapse_away_team_events(df):\n",
    "    event_types = []\n",
    "    possession_teams = []\n",
    "    for x in range(0,len(df)):\n",
    "        if df['type'][x]['name'] != 'Half End':\n",
    "            event_types.append(df['type'][x]['name'])\n",
    "            possession_teams.append(df['possession_team'][x]['name'])\n",
    "        if df['type'][x]['name'] == 'Half End':\n",
    "            break\n",
    "    new_df = pd.DataFrame(event_types, columns=['event'])\n",
    "    new_df['possession_team']=possession_teams\n",
    "    df_away_team = new_df[new_df['possession_team']!=df['possession_team'][0]['name']]\n",
    "    away_team_events = df_away_team['event'].value_counts().to_dict()\n",
    "    df_final_away_team = pd.DataFrame.from_dict(away_team_events,orient='index').T\n",
    "    df_final_away_team.columns = ['away_team_' + str(col) for col in df_final_away_team.columns]\n",
    "    return df_final_away_team"
   ]
  },
  {
   "cell_type": "code",
   "execution_count": 11,
   "id": "6a873528",
   "metadata": {},
   "outputs": [
    {
     "name": "stderr",
     "output_type": "stream",
     "text": [
      "100%|██████████| 1095/1095 [00:55<00:00, 19.57it/s]\n"
     ]
    }
   ],
   "source": [
    "# empty list for all home team events\n",
    "# making sure that each item in the list corresponds to the correct match\n",
    "home = []\n",
    "match_ids = []\n",
    "for item in tqdm(match_events):\n",
    "    home.append(df_collapse_home_team_events(item))\n",
    "for x in event_files:\n",
    "    match_ids.append(x)"
   ]
  },
  {
   "cell_type": "code",
   "execution_count": 12,
   "id": "faa06ae2",
   "metadata": {
    "scrolled": false
   },
   "outputs": [
    {
     "name": "stderr",
     "output_type": "stream",
     "text": [
      "100%|██████████| 1095/1095 [00:49<00:00, 22.34it/s]\n"
     ]
    }
   ],
   "source": [
    "# empty list for all away team events\n",
    "away = []\n",
    "for item in tqdm(match_events):\n",
    "    away.append(df_collapse_away_team_events(item))"
   ]
  },
  {
   "cell_type": "code",
   "execution_count": 13,
   "id": "736bdf1c",
   "metadata": {},
   "outputs": [],
   "source": [
    "# create empty lists for all home team features\n",
    "# go through each row contained in the home list\n",
    "# if feature happend in the game the number of times it occured is added to the list\n",
    "# if an event type did not occur, nan is appended\n",
    "home_team_fifty_fiftys = []\n",
    "home_team_bad_behaviours = []\n",
    "home_team_ball_receipts = []\n",
    "home_team_ball_recoveries = []\n",
    "home_team_blocks = []\n",
    "home_team_carries = []\n",
    "home_team_clearances = []\n",
    "home_team_dispossessions = []\n",
    "home_team_dribbles = []\n",
    "home_team_dribbles_past = []\n",
    "home_team_duels = []\n",
    "home_team_errors = []\n",
    "home_team_fouls_commited = []\n",
    "home_team_fouls_won = []\n",
    "home_team_goal_keeper_events = []\n",
    "home_team_interceptions = []\n",
    "home_team_miscontrols = []\n",
    "home_team_offsides = []\n",
    "home_team_own_goals_against = []\n",
    "home_team_own_goals_for = []\n",
    "home_team_passes = []\n",
    "home_team_pressures = []\n",
    "home_team_shields = []\n",
    "home_team_shots = []\n",
    "home_team_substitutions = []\n",
    "home_team_tactical_shifts = []\n",
    "\n",
    "\n",
    "for x in range(0,len(home)):\n",
    "    try:\n",
    "        home_team_fifty_fiftys.append(home[x]['home_team_50/50'][0])\n",
    "    except:\n",
    "        home_team_fifty_fiftys.append(np.nan)\n",
    "\n",
    "for x in range(0,len(home)):\n",
    "    try:\n",
    "        home_team_bad_behaviours.append(home[x]['home_team_Bad Behaviour'][0])\n",
    "    except:\n",
    "        home_team_bad_behaviours.append(np.nan)\n",
    "for x in range(0,len(home)):\n",
    "    try:\n",
    "        home_team_ball_receipts.append(home[x]['home_team_Ball Receipt*'][0])\n",
    "    except:\n",
    "        home_team_ball_receipts.append(np.nan)\n",
    "for x in range(0,len(home)):\n",
    "    try:\n",
    "        home_team_ball_recoveries.append(home[x]['home_team_Ball Recovery'][0])\n",
    "    except:\n",
    "        home_team_ball_recoveries.append(np.nan)\n",
    "for x in range(0,len(home)):\n",
    "    try:\n",
    "        home_team_blocks.append(home[x]['home_team_Block'][0])\n",
    "    except:\n",
    "        home_team_blocks.append(np.nan)\n",
    "for x in range(0,len(home)):\n",
    "    try:\n",
    "        home_team_carries.append(home[x]['home_team_Carry'][0])\n",
    "    except:\n",
    "        home_team_carries.append(np.nan)\n",
    "for x in range(0,len(home)):\n",
    "    try:\n",
    "        home_team_clearances.append(home[x]['home_team_Clearance'][0])\n",
    "    except:\n",
    "        home_team_clearances.append(np.nan)\n",
    "for x in range(0,len(home)):\n",
    "    try:\n",
    "        home_team_dispossessions.append(home[x]['home_team_Dispossessed'][0])\n",
    "    except:\n",
    "        home_team_dispossessions.append(np.nan)\n",
    "for x in range(0,len(home)):\n",
    "    try:\n",
    "        home_team_dribbles.append(home[x]['home_team_Dribble'][0])\n",
    "    except:\n",
    "        home_team_dribbles.append(np.nan)\n",
    "for x in range(0,len(home)):\n",
    "    try:\n",
    "        home_team_dribbles_past.append(home[x]['home_team_Dribbled Past'][0])\n",
    "    except:\n",
    "        home_team_dribbles_past.append(np.nan)\n",
    "for x in range(0,len(home)):\n",
    "    try:\n",
    "        home_team_duels.append(home[x]['home_team_Duel'][0])\n",
    "    except:\n",
    "        home_team_duels.append(np.nan)\n",
    "for x in range(0,len(home)):    \n",
    "    try:\n",
    "        home_team_errors.append(home[x]['home_team_Error'][0])\n",
    "    except:\n",
    "        home_team_errors.append(np.nan)\n",
    "for x in range(0,len(home)):\n",
    "    try:\n",
    "        home_team_fouls_commited.append(home[x]['home_team_Foul Committed'][0])\n",
    "    except:\n",
    "        home_team_fouls_commited.append(np.nan)\n",
    "for x in range(0,len(home)):\n",
    "    try:\n",
    "        home_team_fouls_won.append(home[x]['home_team_Foul Won'][0])\n",
    "    except:\n",
    "        home_team_fouls_won.append(np.nan)\n",
    "for x in range(0,len(home)):\n",
    "    try:\n",
    "        home_team_goal_keeper_events.append(home[x]['home_team_Goal Keeper'][0])\n",
    "    except:\n",
    "        home_team_goal_keeper_events.append(np.nan)\n",
    "for x in range(0,len(home)):\n",
    "    try:\n",
    "        home_team_interceptions.append(home[x]['home_team_Interception'][0])\n",
    "    except:\n",
    "        home_team_interceptions.append(np.nan)\n",
    "for x in range(0,len(home)):\n",
    "    try:\n",
    "        home_team_miscontrols.append(home[x]['home_team_Miscontrol'][0])\n",
    "    except:\n",
    "        home_team_miscontrols.append(np.nan)\n",
    "for x in range(0,len(home)):\n",
    "    try:\n",
    "        home_team_offsides.append(home[x]['home_team_Offside'][0])\n",
    "    except:\n",
    "        home_team_offsides.append(np.nan)\n",
    "for x in range(0,len(home)):\n",
    "    try:\n",
    "        home_team_own_goals_against.append(home[x]['home_team_Own Goal Against'][0])\n",
    "    except:\n",
    "        home_team_own_goals_against.append(np.nan)\n",
    "for x in range(0,len(home)):\n",
    "    try:\n",
    "        home_team_own_goals_for.append(home[x]['home_team_Own Goal For'][0])\n",
    "    except:\n",
    "        home_team_own_goals_for.append(np.nan)\n",
    "for x in range(0,len(home)):\n",
    "    try:\n",
    "        home_team_passes.append(home[x]['home_team_Pass'][0])\n",
    "    except:\n",
    "        home_team_passes.append(np.nan)\n",
    "for x in range(0,len(home)):\n",
    "    try:\n",
    "        home_team_pressures.append(home[x]['home_team_Pressure'][0])\n",
    "    except:\n",
    "        home_team_pressures.append(np.nan)\n",
    "for x in range(0,len(home)):\n",
    "    try:\n",
    "        home_team_shields.append(home[x]['home_team_Shield'][0])\n",
    "    except:\n",
    "        home_team_shields.append(np.nan)\n",
    "for x in range(0,len(home)):\n",
    "    try:\n",
    "        home_team_shots.append(home[x]['home_team_Shot'][0])\n",
    "    except:\n",
    "        home_team_shots.append(np.nan)\n",
    "for x in range(0,len(home)):\n",
    "    try:\n",
    "        home_team_substitutions.append(home[x]['home_team_Substitution'][0])\n",
    "    except:\n",
    "        home_team_substitutions.append(np.nan)\n",
    "for x in range(0,len(home)):\n",
    "    try:\n",
    "        home_team_tactical_shifts.append(home[x]['home_team_Tactical Shift'][0])\n",
    "    except:\n",
    "        home_team_tactical_shifts.append(np.nan)"
   ]
  },
  {
   "cell_type": "code",
   "execution_count": 14,
   "id": "c1443b84",
   "metadata": {},
   "outputs": [],
   "source": [
    "# making a df with all the summaries home team event info\n",
    "\n",
    "final_home = pd.DataFrame(index=range(0,len(home)))\n",
    "final_home['match_id']=match_ids\n",
    "final_home['home_team_bad_behaviour'] = home_team_bad_behaviours\n",
    "final_home['home_team_ball_receipts'] = home_team_ball_receipts\n",
    "final_home['home_team_ball_recoveries']=home_team_ball_recoveries\n",
    "final_home['home_team_blocks']=home_team_blocks\n",
    "final_home['home_team_carries']=home_team_carries\n",
    "final_home['home_team_clearances']=home_team_clearances\n",
    "final_home['home_team_dispossessions']=home_team_dispossessions\n",
    "final_home['home_team_dribbles']=home_team_dribbles\n",
    "final_home['home_team_dribbles_past']=home_team_dribbles_past\n",
    "final_home['home_team_duels']=home_team_duels\n",
    "final_home['home_team_errors']=home_team_errors\n",
    "final_home['home_team_fouls_commited']=home_team_fouls_commited\n",
    "final_home['home_team_fouls_won']=home_team_fouls_won\n",
    "final_home['home_team_goal_keeper_events']=home_team_goal_keeper_events\n",
    "final_home['home_team_interceptions']=home_team_interceptions\n",
    "final_home['home_team_miscontrols']=home_team_miscontrols\n",
    "final_home['home_team_offsides']=home_team_offsides\n",
    "final_home['home_team_own_goals_against']=home_team_own_goals_against\n",
    "final_home['home_team_own_goals_for']=home_team_own_goals_for\n",
    "final_home['home_team_passes']=home_team_passes\n",
    "final_home['home_team_pressures']=home_team_pressures\n",
    "final_home['home_team_shields']=home_team_shields\n",
    "final_home['home_team_shots']=home_team_shots\n",
    "final_home['home_team_substitutions']=home_team_substitutions\n",
    "final_home['home_team_tactical_shifts']=home_team_tactical_shifts"
   ]
  },
  {
   "cell_type": "code",
   "execution_count": 15,
   "id": "912536b4",
   "metadata": {},
   "outputs": [],
   "source": [
    "# same for away team\n",
    "\n",
    "away_team_fifty_fiftys = []\n",
    "away_team_bad_behaviours = []\n",
    "away_team_ball_receipts = []\n",
    "away_team_ball_recoveries = []\n",
    "away_team_blocks = []\n",
    "away_team_carries = []\n",
    "away_team_clearances = []\n",
    "away_team_dispossessions = []\n",
    "away_team_dribbles = []\n",
    "away_team_dribbles_past = []\n",
    "away_team_duels = []\n",
    "away_team_errors = []\n",
    "away_team_fouls_commited = []\n",
    "away_team_fouls_won = []\n",
    "away_team_goal_keeper_events = []\n",
    "away_team_interceptions = []\n",
    "away_team_miscontrols = []\n",
    "away_team_offsides = []\n",
    "away_team_own_goals_against = []\n",
    "away_team_own_goals_for = []\n",
    "away_team_passes = []\n",
    "away_team_pressures = []\n",
    "away_team_shields = []\n",
    "away_team_shots = []\n",
    "away_team_substitutions = []\n",
    "away_team_tactical_shifts = []\n",
    "\n",
    "for x in range(0,len(away)):\n",
    "    try:\n",
    "        away_team_fifty_fiftys.append(away[x]['away_team_50/50'][0])\n",
    "    except:\n",
    "        away_team_fifty_fiftys.append(np.nan)\n",
    "\n",
    "for x in range(0,len(away)):\n",
    "    try:\n",
    "        away_team_bad_behaviours.append(away[x]['away_team_Bad Behaviour'][0])\n",
    "    except:\n",
    "        away_team_bad_behaviours.append(np.nan)\n",
    "for x in range(0,len(away)):\n",
    "    try:\n",
    "        away_team_ball_receipts.append(away[x]['away_team_Ball Receipt*'][0])\n",
    "    except:\n",
    "        away_team_ball_receipts.append(np.nan)\n",
    "for x in range(0,len(away)):\n",
    "    try:\n",
    "        away_team_ball_recoveries.append(away[x]['away_team_Ball Recovery'][0])\n",
    "    except:\n",
    "        away_team_ball_recoveries.append(np.nan)\n",
    "for x in range(0,len(away)):\n",
    "    try:\n",
    "        away_team_blocks.append(away[x]['away_team_Block'][0])\n",
    "    except:\n",
    "        away_team_blocks.append(np.nan)\n",
    "for x in range(0,len(away)):\n",
    "    try:\n",
    "        away_team_carries.append(away[x]['away_team_Carry'][0])\n",
    "    except:\n",
    "        away_team_carries.append(np.nan)\n",
    "for x in range(0,len(away)):\n",
    "    try:\n",
    "        away_team_clearances.append(away[x]['away_team_Clearance'][0])\n",
    "    except:\n",
    "        away_team_clearances.append(np.nan)\n",
    "for x in range(0,len(away)):\n",
    "    try:\n",
    "        away_team_dispossessions.append(away[x]['away_team_Dispossessed'][0])\n",
    "    except:\n",
    "        away_team_dispossessions.append(np.nan)\n",
    "for x in range(0,len(away)):\n",
    "    try:\n",
    "        away_team_dribbles.append(away[x]['away_team_Dribble'][0])\n",
    "    except:\n",
    "        away_team_dribbles.append(np.nan)\n",
    "for x in range(0,len(away)):\n",
    "    try:\n",
    "        away_team_dribbles_past.append(away[x]['away_team_Dribbled Past'][0])\n",
    "    except:\n",
    "        away_team_dribbles_past.append(np.nan)\n",
    "for x in range(0,len(away)):\n",
    "    try:\n",
    "        away_team_duels.append(away[x]['away_team_Duel'][0])\n",
    "    except:\n",
    "        away_team_duels.append(np.nan)\n",
    "for x in range(0,len(away)):    \n",
    "    try:\n",
    "        away_team_errors.append(away[x]['away_team_Error'][0])\n",
    "    except:\n",
    "        away_team_errors.append(np.nan)\n",
    "for x in range(0,len(away)):\n",
    "    try:\n",
    "        away_team_fouls_commited.append(away[x]['away_team_Foul Committed'][0])\n",
    "    except:\n",
    "        away_team_fouls_commited.append(np.nan)\n",
    "for x in range(0,len(away)):\n",
    "    try:\n",
    "        away_team_fouls_won.append(away[x]['away_team_Foul Won'][0])\n",
    "    except:\n",
    "        away_team_fouls_won.append(np.nan)\n",
    "for x in range(0,len(away)):\n",
    "    try:\n",
    "        away_team_goal_keeper_events.append(away[x]['away_team_Goal Keeper'][0])\n",
    "    except:\n",
    "        away_team_goal_keeper_events.append(np.nan)\n",
    "for x in range(0,len(away)):\n",
    "    try:\n",
    "        away_team_interceptions.append(away[x]['away_team_Interception'][0])\n",
    "    except:\n",
    "        away_team_interceptions.append(np.nan)\n",
    "for x in range(0,len(away)):\n",
    "    try:\n",
    "        away_team_miscontrols.append(away[x]['away_team_Miscontrol'][0])\n",
    "    except:\n",
    "        away_team_miscontrols.append(np.nan)\n",
    "for x in range(0,len(away)):\n",
    "    try:\n",
    "        away_team_offsides.append(away[x]['away_team_Offside'][0])\n",
    "    except:\n",
    "        away_team_offsides.append(np.nan)\n",
    "for x in range(0,len(away)):\n",
    "    try:\n",
    "        away_team_own_goals_against.append(away[x]['away_team_Own Goal Against'][0])\n",
    "    except:\n",
    "        away_team_own_goals_against.append(np.nan)\n",
    "for x in range(0,len(away)):\n",
    "    try:\n",
    "        away_team_own_goals_for.append(away[x]['away_team_Own Goal For'][0])\n",
    "    except:\n",
    "        away_team_own_goals_for.append(np.nan)\n",
    "for x in range(0,len(away)):\n",
    "    try:\n",
    "        away_team_passes.append(away[x]['away_team_Pass'][0])\n",
    "    except:\n",
    "        away_team_passes.append(np.nan)\n",
    "for x in range(0,len(away)):\n",
    "    try:\n",
    "        away_team_pressures.append(away[x]['away_team_Pressure'][0])\n",
    "    except:\n",
    "        away_team_pressures.append(np.nan)\n",
    "for x in range(0,len(away)):\n",
    "    try:\n",
    "        away_team_shields.append(away[x]['away_team_Shield'][0])\n",
    "    except:\n",
    "        away_team_shields.append(np.nan)\n",
    "for x in range(0,len(away)):\n",
    "    try:\n",
    "        away_team_shots.append(away[x]['away_team_Shot'][0])\n",
    "    except:\n",
    "        away_team_shots.append(np.nan)\n",
    "for x in range(0,len(away)):\n",
    "    try:\n",
    "        away_team_substitutions.append(away[x]['away_team_Substitution'][0])\n",
    "    except:\n",
    "        away_team_substitutions.append(np.nan)\n",
    "for x in range(0,len(away)):\n",
    "    try:\n",
    "        away_team_tactical_shifts.append(away[x]['away_team_Tactical Shift'][0])\n",
    "    except:\n",
    "        away_team_tactical_shifts.append(np.nan)"
   ]
  },
  {
   "cell_type": "code",
   "execution_count": 16,
   "id": "44e0a58d",
   "metadata": {},
   "outputs": [],
   "source": [
    "final_away = pd.DataFrame(index=range(0,len(away)))\n",
    "final_away['match_id']=match_ids\n",
    "final_away['away_team_bad_behaviour'] = away_team_bad_behaviours\n",
    "final_away['away_team_ball_receipts'] = away_team_ball_receipts\n",
    "final_away['away_team_ball_recoveries']=away_team_ball_recoveries\n",
    "final_away['away_team_blocks']=away_team_blocks\n",
    "final_away['away_team_carries']=away_team_carries\n",
    "final_away['away_team_clearances']=away_team_clearances\n",
    "final_away['away_team_dispossessions']=away_team_dispossessions\n",
    "final_away['away_team_dribbles']=away_team_dribbles\n",
    "final_away['away_team_dribbles_past']=away_team_dribbles_past\n",
    "final_away['away_team_duels']=away_team_duels\n",
    "final_away['away_team_errors']=away_team_errors\n",
    "final_away['away_team_fouls_commited']=away_team_fouls_commited\n",
    "final_away['away_team_fouls_won']=away_team_fouls_won\n",
    "final_away['away_team_goal_keeper_events']=away_team_goal_keeper_events\n",
    "final_away['away_team_interceptions']=away_team_interceptions\n",
    "final_away['away_team_miscontrols']=away_team_miscontrols\n",
    "final_away['away_team_offsides']=away_team_offsides\n",
    "final_away['away_team_own_goals_against']=away_team_own_goals_against\n",
    "final_away['away_team_own_goals_for']=away_team_own_goals_for\n",
    "final_away['away_team_passes']=away_team_passes\n",
    "final_away['away_team_pressures']=away_team_pressures\n",
    "final_away['away_team_shields']=away_team_shields\n",
    "final_away['away_team_shots']=away_team_shots\n",
    "final_away['away_team_substitutions']=away_team_substitutions\n",
    "final_away['away_team_tactical_shifts']=away_team_tactical_shifts"
   ]
  },
  {
   "cell_type": "code",
   "execution_count": 17,
   "id": "d8e09e33",
   "metadata": {},
   "outputs": [],
   "source": [
    "# merge home and away team events so that a row contains the home and away team info for the same matches\n",
    "df_final_home_away = pd.merge(final_home, final_away, on='match_id', how='left' )"
   ]
  },
  {
   "cell_type": "code",
   "execution_count": 18,
   "id": "bb8f3b5a",
   "metadata": {},
   "outputs": [],
   "source": [
    "# join result with modified competition df to get the desired info as a df\n",
    "df_ult = pd.concat([df_final_comp_info, df_final_home_away], axis=1)"
   ]
  },
  {
   "cell_type": "code",
   "execution_count": 19,
   "id": "c44a917a",
   "metadata": {},
   "outputs": [
    {
     "data": {
      "text/html": [
       "<div>\n",
       "<style scoped>\n",
       "    .dataframe tbody tr th:only-of-type {\n",
       "        vertical-align: middle;\n",
       "    }\n",
       "\n",
       "    .dataframe tbody tr th {\n",
       "        vertical-align: top;\n",
       "    }\n",
       "\n",
       "    .dataframe thead th {\n",
       "        text-align: right;\n",
       "    }\n",
       "</style>\n",
       "<table border=\"1\" class=\"dataframe\">\n",
       "  <thead>\n",
       "    <tr style=\"text-align: right;\">\n",
       "      <th></th>\n",
       "      <th>match_date</th>\n",
       "      <th>competition</th>\n",
       "      <th>season</th>\n",
       "      <th>referee_nationality</th>\n",
       "      <th>home_score</th>\n",
       "      <th>away_score</th>\n",
       "      <th>home_team</th>\n",
       "      <th>away_team</th>\n",
       "      <th>match_id</th>\n",
       "      <th>match_id</th>\n",
       "      <th>...</th>\n",
       "      <th>away_team_miscontrols</th>\n",
       "      <th>away_team_offsides</th>\n",
       "      <th>away_team_own_goals_against</th>\n",
       "      <th>away_team_own_goals_for</th>\n",
       "      <th>away_team_passes</th>\n",
       "      <th>away_team_pressures</th>\n",
       "      <th>away_team_shields</th>\n",
       "      <th>away_team_shots</th>\n",
       "      <th>away_team_substitutions</th>\n",
       "      <th>away_team_tactical_shifts</th>\n",
       "    </tr>\n",
       "  </thead>\n",
       "  <tbody>\n",
       "    <tr>\n",
       "      <th>0</th>\n",
       "      <td>2004-02-07</td>\n",
       "      <td>Premier League</td>\n",
       "      <td>2003/2004</td>\n",
       "      <td>NaN</td>\n",
       "      <td>1</td>\n",
       "      <td>3</td>\n",
       "      <td>Wolverhampton Wanderers</td>\n",
       "      <td>Arsenal</td>\n",
       "      <td>3749052</td>\n",
       "      <td>3749052</td>\n",
       "      <td>...</td>\n",
       "      <td>10.0</td>\n",
       "      <td>NaN</td>\n",
       "      <td>NaN</td>\n",
       "      <td>NaN</td>\n",
       "      <td>268</td>\n",
       "      <td>109</td>\n",
       "      <td>2.0</td>\n",
       "      <td>6.0</td>\n",
       "      <td>NaN</td>\n",
       "      <td>NaN</td>\n",
       "    </tr>\n",
       "    <tr>\n",
       "      <th>1</th>\n",
       "      <td>2003-12-26</td>\n",
       "      <td>Premier League</td>\n",
       "      <td>2003/2004</td>\n",
       "      <td>NaN</td>\n",
       "      <td>3</td>\n",
       "      <td>0</td>\n",
       "      <td>Arsenal</td>\n",
       "      <td>Wolverhampton Wanderers</td>\n",
       "      <td>3749522</td>\n",
       "      <td>3749522</td>\n",
       "      <td>...</td>\n",
       "      <td>1.0</td>\n",
       "      <td>NaN</td>\n",
       "      <td>NaN</td>\n",
       "      <td>NaN</td>\n",
       "      <td>181</td>\n",
       "      <td>78</td>\n",
       "      <td>NaN</td>\n",
       "      <td>4.0</td>\n",
       "      <td>NaN</td>\n",
       "      <td>NaN</td>\n",
       "    </tr>\n",
       "    <tr>\n",
       "      <th>2</th>\n",
       "      <td>2004-03-28</td>\n",
       "      <td>Premier League</td>\n",
       "      <td>2003/2004</td>\n",
       "      <td>NaN</td>\n",
       "      <td>1</td>\n",
       "      <td>1</td>\n",
       "      <td>Arsenal</td>\n",
       "      <td>Manchester United</td>\n",
       "      <td>3749246</td>\n",
       "      <td>3749246</td>\n",
       "      <td>...</td>\n",
       "      <td>11.0</td>\n",
       "      <td>NaN</td>\n",
       "      <td>NaN</td>\n",
       "      <td>NaN</td>\n",
       "      <td>211</td>\n",
       "      <td>61</td>\n",
       "      <td>NaN</td>\n",
       "      <td>7.0</td>\n",
       "      <td>NaN</td>\n",
       "      <td>NaN</td>\n",
       "    </tr>\n",
       "    <tr>\n",
       "      <th>3</th>\n",
       "      <td>2004-05-15</td>\n",
       "      <td>Premier League</td>\n",
       "      <td>2003/2004</td>\n",
       "      <td>NaN</td>\n",
       "      <td>2</td>\n",
       "      <td>1</td>\n",
       "      <td>Arsenal</td>\n",
       "      <td>Leicester City</td>\n",
       "      <td>3749257</td>\n",
       "      <td>3749257</td>\n",
       "      <td>...</td>\n",
       "      <td>6.0</td>\n",
       "      <td>NaN</td>\n",
       "      <td>NaN</td>\n",
       "      <td>NaN</td>\n",
       "      <td>174</td>\n",
       "      <td>46</td>\n",
       "      <td>NaN</td>\n",
       "      <td>1.0</td>\n",
       "      <td>NaN</td>\n",
       "      <td>NaN</td>\n",
       "    </tr>\n",
       "    <tr>\n",
       "      <th>4</th>\n",
       "      <td>2004-02-28</td>\n",
       "      <td>Premier League</td>\n",
       "      <td>2003/2004</td>\n",
       "      <td>NaN</td>\n",
       "      <td>2</td>\n",
       "      <td>1</td>\n",
       "      <td>Arsenal</td>\n",
       "      <td>Charlton Athletic</td>\n",
       "      <td>3749642</td>\n",
       "      <td>3749642</td>\n",
       "      <td>...</td>\n",
       "      <td>4.0</td>\n",
       "      <td>NaN</td>\n",
       "      <td>NaN</td>\n",
       "      <td>NaN</td>\n",
       "      <td>190</td>\n",
       "      <td>59</td>\n",
       "      <td>NaN</td>\n",
       "      <td>4.0</td>\n",
       "      <td>NaN</td>\n",
       "      <td>NaN</td>\n",
       "    </tr>\n",
       "  </tbody>\n",
       "</table>\n",
       "<p>5 rows × 60 columns</p>\n",
       "</div>"
      ],
      "text/plain": [
       "   match_date     competition     season referee_nationality  home_score  \\\n",
       "0  2004-02-07  Premier League  2003/2004                 NaN           1   \n",
       "1  2003-12-26  Premier League  2003/2004                 NaN           3   \n",
       "2  2004-03-28  Premier League  2003/2004                 NaN           1   \n",
       "3  2004-05-15  Premier League  2003/2004                 NaN           2   \n",
       "4  2004-02-28  Premier League  2003/2004                 NaN           2   \n",
       "\n",
       "   away_score                home_team                away_team match_id  \\\n",
       "0           3  Wolverhampton Wanderers                  Arsenal  3749052   \n",
       "1           0                  Arsenal  Wolverhampton Wanderers  3749522   \n",
       "2           1                  Arsenal        Manchester United  3749246   \n",
       "3           1                  Arsenal           Leicester City  3749257   \n",
       "4           1                  Arsenal        Charlton Athletic  3749642   \n",
       "\n",
       "  match_id  ...  away_team_miscontrols  away_team_offsides  \\\n",
       "0  3749052  ...                   10.0                 NaN   \n",
       "1  3749522  ...                    1.0                 NaN   \n",
       "2  3749246  ...                   11.0                 NaN   \n",
       "3  3749257  ...                    6.0                 NaN   \n",
       "4  3749642  ...                    4.0                 NaN   \n",
       "\n",
       "   away_team_own_goals_against  away_team_own_goals_for  away_team_passes  \\\n",
       "0                          NaN                      NaN               268   \n",
       "1                          NaN                      NaN               181   \n",
       "2                          NaN                      NaN               211   \n",
       "3                          NaN                      NaN               174   \n",
       "4                          NaN                      NaN               190   \n",
       "\n",
       "   away_team_pressures  away_team_shields  away_team_shots  \\\n",
       "0                  109                2.0              6.0   \n",
       "1                   78                NaN              4.0   \n",
       "2                   61                NaN              7.0   \n",
       "3                   46                NaN              1.0   \n",
       "4                   59                NaN              4.0   \n",
       "\n",
       "   away_team_substitutions  away_team_tactical_shifts  \n",
       "0                      NaN                        NaN  \n",
       "1                      NaN                        NaN  \n",
       "2                      NaN                        NaN  \n",
       "3                      NaN                        NaN  \n",
       "4                      NaN                        NaN  \n",
       "\n",
       "[5 rows x 60 columns]"
      ]
     },
     "execution_count": 19,
     "metadata": {},
     "output_type": "execute_result"
    }
   ],
   "source": [
    "df_ult.head()"
   ]
  },
  {
   "cell_type": "code",
   "execution_count": 20,
   "id": "c8159a5f",
   "metadata": {},
   "outputs": [],
   "source": [
    "# create a list that shows whether the home team won (0), the away team won (1) and if it was a draw (2)\n",
    "match_outcomes = []\n",
    "for x in range(0,len(df_ult)):\n",
    "    if df_ult['home_score'][x] == df_ult['away_score'][x]:\n",
    "        match_outcomes.append(2)\n",
    "    elif df_ult['home_score'][x] > df_ult['away_score'][x]:\n",
    "        match_outcomes.append(0)\n",
    "    else:\n",
    "        match_outcomes.append(1)"
   ]
  },
  {
   "cell_type": "code",
   "execution_count": 21,
   "id": "30a8924d",
   "metadata": {},
   "outputs": [],
   "source": [
    "# add new column to df with list items as the cell values\n",
    "df_ult['match_outcome'] = match_outcomes"
   ]
  },
  {
   "cell_type": "code",
   "execution_count": 22,
   "id": "e3b63591",
   "metadata": {},
   "outputs": [
    {
     "data": {
      "text/plain": [
       "0    497\n",
       "1    408\n",
       "2    190\n",
       "Name: match_outcome, dtype: int64"
      ]
     },
     "execution_count": 22,
     "metadata": {},
     "output_type": "execute_result"
    }
   ],
   "source": [
    "df_ult['match_outcome'].value_counts()"
   ]
  },
  {
   "cell_type": "code",
   "execution_count": 23,
   "id": "3c9b6240",
   "metadata": {},
   "outputs": [
    {
     "name": "stdout",
     "output_type": "stream",
     "text": [
      "<class 'pandas.core.frame.DataFrame'>\n",
      "RangeIndex: 1095 entries, 0 to 1094\n",
      "Data columns (total 61 columns):\n",
      " #   Column                        Non-Null Count  Dtype  \n",
      "---  ------                        --------------  -----  \n",
      " 0   match_date                    1095 non-null   object \n",
      " 1   competition                   1095 non-null   object \n",
      " 2   season                        1095 non-null   object \n",
      " 3   referee_nationality           881 non-null    object \n",
      " 4   home_score                    1095 non-null   int64  \n",
      " 5   away_score                    1095 non-null   int64  \n",
      " 6   home_team                     1095 non-null   object \n",
      " 7   away_team                     1095 non-null   object \n",
      " 8   match_id                      1095 non-null   int64  \n",
      " 9   match_id                      1095 non-null   object \n",
      " 10  home_team_bad_behaviour       83 non-null     float64\n",
      " 11  home_team_ball_receipts       1095 non-null   int64  \n",
      " 12  home_team_ball_recoveries     1095 non-null   int64  \n",
      " 13  home_team_blocks              1093 non-null   float64\n",
      " 14  home_team_carries             1095 non-null   int64  \n",
      " 15  home_team_clearances          1088 non-null   float64\n",
      " 16  home_team_dispossessions      1082 non-null   float64\n",
      " 17  home_team_dribbles            1094 non-null   float64\n",
      " 18  home_team_dribbles_past       1084 non-null   float64\n",
      " 19  home_team_duels               1095 non-null   int64  \n",
      " 20  home_team_errors              149 non-null    float64\n",
      " 21  home_team_fouls_commited      1090 non-null   float64\n",
      " 22  home_team_fouls_won           1090 non-null   float64\n",
      " 23  home_team_goal_keeper_events  1092 non-null   float64\n",
      " 24  home_team_interceptions       1066 non-null   float64\n",
      " 25  home_team_miscontrols         1093 non-null   float64\n",
      " 26  home_team_offsides            96 non-null     float64\n",
      " 27  home_team_own_goals_against   35 non-null     float64\n",
      " 28  home_team_own_goals_for       35 non-null     float64\n",
      " 29  home_team_passes              1095 non-null   int64  \n",
      " 30  home_team_pressures           1095 non-null   int64  \n",
      " 31  home_team_shields             235 non-null    float64\n",
      " 32  home_team_shots               1076 non-null   float64\n",
      " 33  home_team_substitutions       102 non-null    float64\n",
      " 34  home_team_tactical_shifts     122 non-null    float64\n",
      " 35  away_team_bad_behaviour       68 non-null     float64\n",
      " 36  away_team_ball_receipts       1095 non-null   int64  \n",
      " 37  away_team_ball_recoveries     1095 non-null   int64  \n",
      " 38  away_team_blocks              1093 non-null   float64\n",
      " 39  away_team_carries             1095 non-null   int64  \n",
      " 40  away_team_clearances          1082 non-null   float64\n",
      " 41  away_team_dispossessions      1082 non-null   float64\n",
      " 42  away_team_dribbles            1093 non-null   float64\n",
      " 43  away_team_dribbles_past       1075 non-null   float64\n",
      " 44  away_team_duels               1095 non-null   int64  \n",
      " 45  away_team_errors              141 non-null    float64\n",
      " 46  away_team_fouls_commited      1085 non-null   float64\n",
      " 47  away_team_fouls_won           1082 non-null   float64\n",
      " 48  away_team_goal_keeper_events  1083 non-null   float64\n",
      " 49  away_team_interceptions       1062 non-null   float64\n",
      " 50  away_team_miscontrols         1093 non-null   float64\n",
      " 51  away_team_offsides            84 non-null     float64\n",
      " 52  away_team_own_goals_against   29 non-null     float64\n",
      " 53  away_team_own_goals_for       29 non-null     float64\n",
      " 54  away_team_passes              1095 non-null   int64  \n",
      " 55  away_team_pressures           1095 non-null   int64  \n",
      " 56  away_team_shields             237 non-null    float64\n",
      " 57  away_team_shots               1067 non-null   float64\n",
      " 58  away_team_substitutions       83 non-null     float64\n",
      " 59  away_team_tactical_shifts     99 non-null     float64\n",
      " 60  match_outcome                 1095 non-null   int64  \n",
      "dtypes: float64(38), int64(16), object(7)\n",
      "memory usage: 522.0+ KB\n"
     ]
    }
   ],
   "source": [
    "df_ult.info()"
   ]
  },
  {
   "cell_type": "code",
   "execution_count": 70,
   "id": "515ded9d",
   "metadata": {},
   "outputs": [
    {
     "data": {
      "text/plain": [
       "Text(0.5, 0, 'Home Team Passes')"
      ]
     },
     "execution_count": 70,
     "metadata": {},
     "output_type": "execute_result"
    },
    {
     "data": {
      "image/png": "[encoded data removed]",
      "text/plain": [
       "<Figure size 432x288 with 1 Axes>"
      ]
     },
     "metadata": {
      "needs_background": "light"
     },
     "output_type": "display_data"
    }
   ],
   "source": [
    "plt.hist(x=X['home_team_passes'])\n",
    "plt.xlabel('Home Team Passes')"
   ]
  },
  {
   "cell_type": "code",
   "execution_count": 74,
   "id": "01d44588",
   "metadata": {},
   "outputs": [
    {
     "data": {
      "text/plain": [
       "Text(0.5, 0, 'Away Team Passes')"
      ]
     },
     "execution_count": 74,
     "metadata": {},
     "output_type": "execute_result"
    },
    {
     "data": {
      "image/png": "[encoded data removed]",
      "text/plain": [
       "<Figure size 432x288 with 1 Axes>"
      ]
     },
     "metadata": {
      "needs_background": "light"
     },
     "output_type": "display_data"
    }
   ],
   "source": [
    "plt.hist(x=X['away_team_passes'])\n",
    "plt.xlabel('Away Team Passes')"
   ]
  },
  {
   "cell_type": "code",
   "execution_count": 76,
   "id": "45fd00e5",
   "metadata": {},
   "outputs": [
    {
     "data": {
      "text/plain": [
       "Text(0.5, 0, 'Home Team Shots')"
      ]
     },
     "execution_count": 76,
     "metadata": {},
     "output_type": "execute_result"
    },
    {
     "data": {
      "image/png": "[encoded data removed]",
      "text/plain": [
       "<Figure size 432x288 with 1 Axes>"
      ]
     },
     "metadata": {
      "needs_background": "light"
     },
     "output_type": "display_data"
    }
   ],
   "source": [
    "plt.hist(x=X['home_team_shots'])\n",
    "plt.xlabel('Home Team Shots')"
   ]
  },
  {
   "cell_type": "code",
   "execution_count": 77,
   "id": "0271348a",
   "metadata": {},
   "outputs": [
    {
     "data": {
      "text/plain": [
       "Text(0.5, 0, 'Away Team Shots')"
      ]
     },
     "execution_count": 77,
     "metadata": {},
     "output_type": "execute_result"
    },
    {
     "data": {
      "image/png": "[encoded data removed]",
      "text/plain": [
       "<Figure size 432x288 with 1 Axes>"
      ]
     },
     "metadata": {
      "needs_background": "light"
     },
     "output_type": "display_data"
    }
   ],
   "source": [
    "plt.hist(x=X['away_team_shots'])\n",
    "plt.xlabel('Away Team Shots')"
   ]
  },
  {
   "cell_type": "code",
   "execution_count": 84,
   "id": "c1d52aaf",
   "metadata": {},
   "outputs": [
    {
     "name": "stderr",
     "output_type": "stream",
     "text": [
      "<ipython-input-84-f09ff031b490>:1: MatplotlibDeprecationWarning: normalize=None does not normalize if the sum is less than 1 but this behavior is deprecated since 3.3 until two minor releases later. After the deprecation period the default value will be normalize=True. To prevent normalization pass normalize=False \n",
      "  plt.pie(X_home['outcome'].value_counts(normalize=True),labels=('0','1','2'),shadow=True )\n"
     ]
    },
    {
     "data": {
      "text/plain": [
       "([<matplotlib.patches.Wedge at 0x7fa8ec31d7c0>,\n",
       "  <matplotlib.patches.Wedge at 0x7fa8ec31da00>,\n",
       "  <matplotlib.patches.Wedge at 0x7fa8ec98ac70>],\n",
       " [Text(0.15881789570067353, 1.0884745637842026, '0'),\n",
       "  Text(-0.7001933526649874, -0.8483685925844762, '1'),\n",
       "  Text(0.9405734635031038, -0.5703696693844929, '2')])"
      ]
     },
     "execution_count": 84,
     "metadata": {},
     "output_type": "execute_result"
    },
    {
     "data": {
      "image/png": "[encoded data removed]",
      "text/plain": [
       "<Figure size 432x288 with 1 Axes>"
      ]
     },
     "metadata": {},
     "output_type": "display_data"
    }
   ],
   "source": [
    "plt.pie(X_home['outcome'].value_counts(normalize=True),labels=('0','1','2'))"
   ]
  },
  {
   "cell_type": "code",
   "execution_count": 64,
   "id": "f9a0f9e1",
   "metadata": {},
   "outputs": [
    {
     "data": {
      "image/png": "[encoded data removed]",
      "text/plain": [
       "<Figure size 864x864 with 2 Axes>"
      ]
     },
     "metadata": {
      "needs_background": "light"
     },
     "output_type": "display_data"
    }
   ],
   "source": [
    "X_home = x_for_heatmap[['home_team_bad_behaviour', 'home_team_ball_receipts',\n",
    "       'home_team_ball_recoveries', 'home_team_blocks', 'home_team_carries',\n",
    "       'home_team_clearances', 'home_team_dispossessions',\n",
    "       'home_team_dribbles', 'home_team_dribbles_past', 'home_team_duels',\n",
    "       'home_team_errors', 'home_team_fouls_commited', 'home_team_fouls_won',\n",
    "       'home_team_goal_keeper_events', 'home_team_interceptions',\n",
    "       'home_team_miscontrols', 'home_team_offsides',\n",
    "       'home_team_own_goals_against', 'home_team_own_goals_for',\n",
    "       'home_team_passes', 'home_team_pressures', 'home_team_shields',\n",
    "       'home_team_shots', 'home_team_substitutions',\n",
    "       'home_team_tactical_shifts','outcome']]\n",
    "plt.figure(figsize=(12, 12))\n",
    "sns.heatmap(X_home.corr(), annot=False)\n",
    "plt.show()"
   ]
  },
  {
   "cell_type": "code",
   "execution_count": null,
   "id": "7ea5dbf5",
   "metadata": {},
   "outputs": [],
   "source": [
    "plt.figure(figsize=(12, 12))\n",
    "sns.heatmap(x_for_heatmap.corr(), annot=False)\n",
    "plt.show()"
   ]
  },
  {
   "cell_type": "code",
   "execution_count": null,
   "id": "a67adf26",
   "metadata": {},
   "outputs": [],
   "source": [
    "sns.pairplot(x_for_heatmap[['home_team_ball_receipts','home_team_carries','home_team_passes','home_team_shots']])\n",
    "plt.show()"
   ]
  },
  {
   "cell_type": "code",
   "execution_count": null,
   "id": "fe7a08bd",
   "metadata": {},
   "outputs": [],
   "source": [
    "sns.pairplot(x_for_heatmap[['away_team_ball_receipts','away_team_carries','away_team_passes','away_team_shots']])\n",
    "plt.show()"
   ]
  },
  {
   "cell_type": "code",
   "execution_count": 61,
   "id": "4c86e846",
   "metadata": {},
   "outputs": [
    {
     "data": {
      "text/plain": [
       "0    0.453881\n",
       "1    0.372603\n",
       "2    0.173516\n",
       "Name: match_outcome, dtype: float64"
      ]
     },
     "execution_count": 61,
     "metadata": {},
     "output_type": "execute_result"
    }
   ],
   "source": [
    "# baseline accuracy\n",
    "df_ult['match_outcome'].value_counts(normalize=True)"
   ]
  },
  {
   "cell_type": "code",
   "execution_count": null,
   "id": "d0503f61",
   "metadata": {},
   "outputs": [],
   "source": [
    "accuracy_score(y_test,predictions_RF_test)"
   ]
  },
  {
   "cell_type": "code",
   "execution_count": 24,
   "id": "de92a4d8",
   "metadata": {},
   "outputs": [],
   "source": [
    "# target\n",
    "y = df_ult['match_outcome']"
   ]
  },
  {
   "cell_type": "code",
   "execution_count": 25,
   "id": "a126599d",
   "metadata": {},
   "outputs": [],
   "source": [
    "# predictors\n",
    "X = df_ult[['home_team_bad_behaviour','home_team_ball_receipts','home_team_ball_recoveries',\n",
    "            'home_team_blocks','home_team_carries','home_team_clearances','home_team_dispossessions',\n",
    "            'home_team_dribbles','home_team_dribbles_past','home_team_duels','home_team_errors',\n",
    "            'home_team_fouls_commited','home_team_fouls_won','home_team_goal_keeper_events',\n",
    "            'home_team_interceptions','home_team_miscontrols','home_team_offsides',\n",
    "            'home_team_own_goals_against','home_team_own_goals_for','home_team_passes',\n",
    "            'home_team_pressures','home_team_shields','home_team_shots','home_team_substitutions',\n",
    "            'home_team_tactical_shifts','away_team_bad_behaviour','away_team_ball_receipts',\n",
    "            'away_team_ball_recoveries','away_team_blocks','away_team_carries','away_team_clearances',\n",
    "            'away_team_dispossessions','away_team_dribbles','away_team_dribbles_past','away_team_duels',\n",
    "            'away_team_errors','away_team_fouls_commited','away_team_fouls_won','away_team_goal_keeper_events',\n",
    "            'away_team_interceptions','away_team_miscontrols','away_team_offsides','away_team_own_goals_against',\n",
    "            'away_team_own_goals_for','away_team_passes','away_team_pressures','away_team_shields',\n",
    "            'away_team_shots','away_team_substitutions','away_team_tactical_shifts']]"
   ]
  },
  {
   "cell_type": "code",
   "execution_count": 26,
   "id": "c4427fef",
   "metadata": {},
   "outputs": [
    {
     "data": {
      "text/html": [
       "<div>\n",
       "<style scoped>\n",
       "    .dataframe tbody tr th:only-of-type {\n",
       "        vertical-align: middle;\n",
       "    }\n",
       "\n",
       "    .dataframe tbody tr th {\n",
       "        vertical-align: top;\n",
       "    }\n",
       "\n",
       "    .dataframe thead th {\n",
       "        text-align: right;\n",
       "    }\n",
       "</style>\n",
       "<table border=\"1\" class=\"dataframe\">\n",
       "  <thead>\n",
       "    <tr style=\"text-align: right;\">\n",
       "      <th></th>\n",
       "      <th>home_team_bad_behaviour</th>\n",
       "      <th>home_team_ball_receipts</th>\n",
       "      <th>home_team_ball_recoveries</th>\n",
       "      <th>home_team_blocks</th>\n",
       "      <th>home_team_carries</th>\n",
       "      <th>home_team_clearances</th>\n",
       "      <th>home_team_dispossessions</th>\n",
       "      <th>home_team_dribbles</th>\n",
       "      <th>home_team_dribbles_past</th>\n",
       "      <th>home_team_duels</th>\n",
       "      <th>...</th>\n",
       "      <th>away_team_miscontrols</th>\n",
       "      <th>away_team_offsides</th>\n",
       "      <th>away_team_own_goals_against</th>\n",
       "      <th>away_team_own_goals_for</th>\n",
       "      <th>away_team_passes</th>\n",
       "      <th>away_team_pressures</th>\n",
       "      <th>away_team_shields</th>\n",
       "      <th>away_team_shots</th>\n",
       "      <th>away_team_substitutions</th>\n",
       "      <th>away_team_tactical_shifts</th>\n",
       "    </tr>\n",
       "  </thead>\n",
       "  <tbody>\n",
       "    <tr>\n",
       "      <th>0</th>\n",
       "      <td>1.0</td>\n",
       "      <td>139</td>\n",
       "      <td>19</td>\n",
       "      <td>4.0</td>\n",
       "      <td>88</td>\n",
       "      <td>12.0</td>\n",
       "      <td>2.0</td>\n",
       "      <td>6.0</td>\n",
       "      <td>3.0</td>\n",
       "      <td>22</td>\n",
       "      <td>...</td>\n",
       "      <td>10.0</td>\n",
       "      <td>0.0</td>\n",
       "      <td>0.0</td>\n",
       "      <td>0.0</td>\n",
       "      <td>268</td>\n",
       "      <td>109</td>\n",
       "      <td>2.0</td>\n",
       "      <td>6.0</td>\n",
       "      <td>0.0</td>\n",
       "      <td>0.0</td>\n",
       "    </tr>\n",
       "    <tr>\n",
       "      <th>1</th>\n",
       "      <td>0.0</td>\n",
       "      <td>322</td>\n",
       "      <td>38</td>\n",
       "      <td>7.0</td>\n",
       "      <td>266</td>\n",
       "      <td>17.0</td>\n",
       "      <td>6.0</td>\n",
       "      <td>16.0</td>\n",
       "      <td>9.0</td>\n",
       "      <td>15</td>\n",
       "      <td>...</td>\n",
       "      <td>1.0</td>\n",
       "      <td>0.0</td>\n",
       "      <td>0.0</td>\n",
       "      <td>0.0</td>\n",
       "      <td>181</td>\n",
       "      <td>78</td>\n",
       "      <td>0.0</td>\n",
       "      <td>4.0</td>\n",
       "      <td>0.0</td>\n",
       "      <td>0.0</td>\n",
       "    </tr>\n",
       "    <tr>\n",
       "      <th>2</th>\n",
       "      <td>0.0</td>\n",
       "      <td>161</td>\n",
       "      <td>38</td>\n",
       "      <td>10.0</td>\n",
       "      <td>145</td>\n",
       "      <td>20.0</td>\n",
       "      <td>6.0</td>\n",
       "      <td>9.0</td>\n",
       "      <td>6.0</td>\n",
       "      <td>21</td>\n",
       "      <td>...</td>\n",
       "      <td>11.0</td>\n",
       "      <td>0.0</td>\n",
       "      <td>0.0</td>\n",
       "      <td>0.0</td>\n",
       "      <td>211</td>\n",
       "      <td>61</td>\n",
       "      <td>0.0</td>\n",
       "      <td>7.0</td>\n",
       "      <td>0.0</td>\n",
       "      <td>0.0</td>\n",
       "    </tr>\n",
       "    <tr>\n",
       "      <th>3</th>\n",
       "      <td>0.0</td>\n",
       "      <td>317</td>\n",
       "      <td>39</td>\n",
       "      <td>10.0</td>\n",
       "      <td>292</td>\n",
       "      <td>18.0</td>\n",
       "      <td>12.0</td>\n",
       "      <td>10.0</td>\n",
       "      <td>5.0</td>\n",
       "      <td>18</td>\n",
       "      <td>...</td>\n",
       "      <td>6.0</td>\n",
       "      <td>0.0</td>\n",
       "      <td>0.0</td>\n",
       "      <td>0.0</td>\n",
       "      <td>174</td>\n",
       "      <td>46</td>\n",
       "      <td>0.0</td>\n",
       "      <td>1.0</td>\n",
       "      <td>0.0</td>\n",
       "      <td>0.0</td>\n",
       "    </tr>\n",
       "    <tr>\n",
       "      <th>4</th>\n",
       "      <td>0.0</td>\n",
       "      <td>347</td>\n",
       "      <td>43</td>\n",
       "      <td>11.0</td>\n",
       "      <td>335</td>\n",
       "      <td>18.0</td>\n",
       "      <td>11.0</td>\n",
       "      <td>14.0</td>\n",
       "      <td>7.0</td>\n",
       "      <td>24</td>\n",
       "      <td>...</td>\n",
       "      <td>4.0</td>\n",
       "      <td>0.0</td>\n",
       "      <td>0.0</td>\n",
       "      <td>0.0</td>\n",
       "      <td>190</td>\n",
       "      <td>59</td>\n",
       "      <td>0.0</td>\n",
       "      <td>4.0</td>\n",
       "      <td>0.0</td>\n",
       "      <td>0.0</td>\n",
       "    </tr>\n",
       "  </tbody>\n",
       "</table>\n",
       "<p>5 rows × 50 columns</p>\n",
       "</div>"
      ],
      "text/plain": [
       "   home_team_bad_behaviour  home_team_ball_receipts  \\\n",
       "0                      1.0                      139   \n",
       "1                      0.0                      322   \n",
       "2                      0.0                      161   \n",
       "3                      0.0                      317   \n",
       "4                      0.0                      347   \n",
       "\n",
       "   home_team_ball_recoveries  home_team_blocks  home_team_carries  \\\n",
       "0                         19               4.0                 88   \n",
       "1                         38               7.0                266   \n",
       "2                         38              10.0                145   \n",
       "3                         39              10.0                292   \n",
       "4                         43              11.0                335   \n",
       "\n",
       "   home_team_clearances  home_team_dispossessions  home_team_dribbles  \\\n",
       "0                  12.0                       2.0                 6.0   \n",
       "1                  17.0                       6.0                16.0   \n",
       "2                  20.0                       6.0                 9.0   \n",
       "3                  18.0                      12.0                10.0   \n",
       "4                  18.0                      11.0                14.0   \n",
       "\n",
       "   home_team_dribbles_past  home_team_duels  ...  away_team_miscontrols  \\\n",
       "0                      3.0               22  ...                   10.0   \n",
       "1                      9.0               15  ...                    1.0   \n",
       "2                      6.0               21  ...                   11.0   \n",
       "3                      5.0               18  ...                    6.0   \n",
       "4                      7.0               24  ...                    4.0   \n",
       "\n",
       "   away_team_offsides  away_team_own_goals_against  away_team_own_goals_for  \\\n",
       "0                 0.0                          0.0                      0.0   \n",
       "1                 0.0                          0.0                      0.0   \n",
       "2                 0.0                          0.0                      0.0   \n",
       "3                 0.0                          0.0                      0.0   \n",
       "4                 0.0                          0.0                      0.0   \n",
       "\n",
       "   away_team_passes  away_team_pressures  away_team_shields  away_team_shots  \\\n",
       "0               268                  109                2.0              6.0   \n",
       "1               181                   78                0.0              4.0   \n",
       "2               211                   61                0.0              7.0   \n",
       "3               174                   46                0.0              1.0   \n",
       "4               190                   59                0.0              4.0   \n",
       "\n",
       "   away_team_substitutions  away_team_tactical_shifts  \n",
       "0                      0.0                        0.0  \n",
       "1                      0.0                        0.0  \n",
       "2                      0.0                        0.0  \n",
       "3                      0.0                        0.0  \n",
       "4                      0.0                        0.0  \n",
       "\n",
       "[5 rows x 50 columns]"
      ]
     },
     "execution_count": 26,
     "metadata": {},
     "output_type": "execute_result"
    }
   ],
   "source": [
    "# cells with nans become 0 as that event happened 0 times \n",
    "X = X.fillna(0)\n",
    "X.head()"
   ]
  },
  {
   "cell_type": "code",
   "execution_count": 27,
   "id": "b79c5c3a",
   "metadata": {},
   "outputs": [],
   "source": [
    "# create train-test split\n",
    "X_train, X_test, y_train, y_test = train_test_split(X, y,\n",
    "                        stratify=y, test_size=0.3, random_state=1)"
   ]
  },
  {
   "cell_type": "code",
   "execution_count": 29,
   "id": "e7029009",
   "metadata": {},
   "outputs": [],
   "source": [
    "# standardise predictors\n",
    "scaler = StandardScaler()\n",
    "\n",
    "X_train = scaler.fit_transform(X_train)\n",
    "X_test = scaler.transform(X_test)\n",
    "\n",
    "X_train = pd.DataFrame(X_train, columns=X.columns)\n",
    "X_test = pd.DataFrame(X_test, columns=X.columns)"
   ]
  },
  {
   "cell_type": "code",
   "execution_count": 30,
   "id": "fa753795",
   "metadata": {},
   "outputs": [],
   "source": [
    "X_train.to_csv('X_train.csv')\n",
    "X_test.to_csv('X_test.csv')\n",
    "y_train.to_csv('y_train.csv')\n",
    "y_test.to_csv('y_test.csv')"
   ]
  },
  {
   "cell_type": "code",
   "execution_count": 31,
   "id": "da4d86fd",
   "metadata": {},
   "outputs": [
    {
     "name": "stdout",
     "output_type": "stream",
     "text": [
      "Best Parameters:\n",
      "{'C': 0.046415888336127774, 'fit_intercept': True, 'penalty': 'l1'}\n",
      "Best estimator C:\n",
      "0.046415888336127774\n",
      "Best estimator mean cross validated training score:\n",
      "0.6696715049656227\n",
      "Best estimator score on the full training set:\n",
      "0.6723237597911227\n",
      "Best estimator score on the test set:\n",
      "0.6990881458966566\n",
      "Best estimator coefficients:\n",
      "[[ 0.00000000e+00  0.00000000e+00  0.00000000e+00  0.00000000e+00\n",
      "   4.50212338e-01  0.00000000e+00  0.00000000e+00  0.00000000e+00\n",
      "   8.40637959e-02  0.00000000e+00  0.00000000e+00  0.00000000e+00\n",
      "   6.25458292e-02  1.48605612e-02  0.00000000e+00  0.00000000e+00\n",
      "   0.00000000e+00  3.43795891e-04  1.51757467e-01  0.00000000e+00\n",
      "   0.00000000e+00  0.00000000e+00  2.03931839e-01  0.00000000e+00\n",
      "   0.00000000e+00  0.00000000e+00  0.00000000e+00  0.00000000e+00\n",
      "   0.00000000e+00 -3.20844998e-01  0.00000000e+00  0.00000000e+00\n",
      "   0.00000000e+00  0.00000000e+00  0.00000000e+00  0.00000000e+00\n",
      "   0.00000000e+00  0.00000000e+00 -1.43679497e-01  0.00000000e+00\n",
      "   0.00000000e+00  0.00000000e+00 -3.03926200e-02 -3.37214003e-03\n",
      "   0.00000000e+00  0.00000000e+00  0.00000000e+00 -2.72325769e-01\n",
      "   0.00000000e+00  0.00000000e+00]\n",
      " [ 0.00000000e+00 -8.61798065e-02  0.00000000e+00  0.00000000e+00\n",
      "  -2.60611841e-01  0.00000000e+00  0.00000000e+00  0.00000000e+00\n",
      "  -6.11659685e-02  0.00000000e+00  0.00000000e+00  0.00000000e+00\n",
      "   0.00000000e+00  0.00000000e+00  0.00000000e+00  0.00000000e+00\n",
      "   0.00000000e+00 -9.20613821e-02 -8.88620561e-03  0.00000000e+00\n",
      "   0.00000000e+00  0.00000000e+00 -2.83355977e-01  0.00000000e+00\n",
      "   0.00000000e+00  0.00000000e+00  2.61706669e-01  0.00000000e+00\n",
      "   0.00000000e+00  9.69169244e-02  0.00000000e+00  0.00000000e+00\n",
      "   0.00000000e+00  0.00000000e+00  0.00000000e+00  0.00000000e+00\n",
      "   0.00000000e+00  0.00000000e+00  1.46681356e-01  0.00000000e+00\n",
      "   0.00000000e+00  0.00000000e+00  4.43246147e-02  2.67578755e-02\n",
      "   0.00000000e+00  0.00000000e+00  0.00000000e+00  1.81296883e-01\n",
      "   0.00000000e+00  0.00000000e+00]\n",
      " [ 0.00000000e+00  0.00000000e+00  0.00000000e+00  0.00000000e+00\n",
      "   0.00000000e+00  0.00000000e+00  0.00000000e+00  0.00000000e+00\n",
      "   0.00000000e+00  0.00000000e+00  0.00000000e+00  0.00000000e+00\n",
      "   0.00000000e+00  0.00000000e+00  0.00000000e+00  0.00000000e+00\n",
      "   0.00000000e+00  0.00000000e+00  0.00000000e+00  0.00000000e+00\n",
      "   0.00000000e+00  0.00000000e+00  0.00000000e+00  0.00000000e+00\n",
      "   0.00000000e+00  0.00000000e+00  0.00000000e+00  0.00000000e+00\n",
      "   0.00000000e+00  0.00000000e+00  0.00000000e+00  0.00000000e+00\n",
      "   0.00000000e+00  0.00000000e+00  0.00000000e+00  0.00000000e+00\n",
      "   0.00000000e+00  0.00000000e+00  0.00000000e+00  0.00000000e+00\n",
      "   0.00000000e+00  0.00000000e+00  0.00000000e+00  0.00000000e+00\n",
      "   0.00000000e+00  5.64147869e-02  0.00000000e+00  0.00000000e+00\n",
      "   0.00000000e+00  0.00000000e+00]]\n"
     ]
    }
   ],
   "source": [
    "# logistic regression model optimised by gridsearch\n",
    "model_LogR = LogisticRegression(solver='liblinear', multi_class='ovr')\n",
    "\n",
    "params = {'C': np.logspace(-4, 4, 10),\n",
    "          'penalty': ['l1', 'l2'],\n",
    "          'fit_intercept': [True, False]}\n",
    "\n",
    "gs_LogR = GridSearchCV(estimator=model_LogR,\n",
    "                  param_grid=params,\n",
    "                  cv=5,\n",
    "                  scoring='accuracy',\n",
    "                  return_train_score=True)\n",
    "\n",
    "gs_LogR.fit(X_train, y_train)\n",
    "\n",
    "# extract the grid search results\n",
    "\n",
    "print('Best Parameters:')\n",
    "print(gs_LogR.best_params_)\n",
    "print('Best estimator C:')\n",
    "print(gs_LogR.best_estimator_.C)\n",
    "print('Best estimator mean cross validated training score:')\n",
    "print(gs_LogR.best_score_)\n",
    "print('Best estimator score on the full training set:')\n",
    "print(gs_LogR.score(X_train, y_train))\n",
    "print('Best estimator score on the test set:')\n",
    "print(gs_LogR.score(X_test, y_test))\n",
    "print('Best estimator coefficients:')\n",
    "print(gs_LogR.best_estimator_.coef_)"
   ]
  },
  {
   "cell_type": "code",
   "execution_count": 32,
   "id": "0e317cd2",
   "metadata": {},
   "outputs": [
    {
     "name": "stdout",
     "output_type": "stream",
     "text": [
      "0.6906005221932114\n",
      "0.6500806383159323\n",
      "0.6595744680851063\n"
     ]
    }
   ],
   "source": [
    "model_DTC = DecisionTreeClassifier(max_depth=3)\n",
    "model_DTC.fit(X_train, y_train)\n",
    "\n",
    "print(model_DTC.score(X_train, y_train))\n",
    "print(cross_val_score(model_DTC, X_train, y_train, cv=5).mean())\n",
    "print(model_DTC.score(X_test, y_test))"
   ]
  },
  {
   "cell_type": "code",
   "execution_count": 33,
   "id": "a1e7c7b5",
   "metadata": {},
   "outputs": [
    {
     "name": "stdout",
     "output_type": "stream",
     "text": [
      "0.7859007832898173\n",
      "0.6513708513708514\n",
      "0.6930091185410334\n"
     ]
    }
   ],
   "source": [
    "model_rand_for = RandomForestClassifier(n_estimators=7500,max_features=40,max_depth=7,min_samples_leaf=7)\n",
    "model_rand_for.fit(X_train, y_train)\n",
    "\n",
    "print(model_rand_for.score(X_train, y_train))\n",
    "print(cross_val_score(model_rand_for, X_train, y_train, cv=5).mean())\n",
    "print(model_rand_for.score(X_test, y_test))"
   ]
  },
  {
   "cell_type": "code",
   "execution_count": 34,
   "id": "17b97bca",
   "metadata": {},
   "outputs": [
    {
     "data": {
      "text/plain": [
       "{'bootstrap': True,\n",
       " 'ccp_alpha': 0.0,\n",
       " 'class_weight': None,\n",
       " 'criterion': 'gini',\n",
       " 'max_depth': None,\n",
       " 'max_features': 'auto',\n",
       " 'max_leaf_nodes': None,\n",
       " 'max_samples': None,\n",
       " 'min_impurity_decrease': 0.0,\n",
       " 'min_impurity_split': None,\n",
       " 'min_samples_leaf': 1,\n",
       " 'min_samples_split': 2,\n",
       " 'min_weight_fraction_leaf': 0.0,\n",
       " 'n_estimators': 100,\n",
       " 'n_jobs': None,\n",
       " 'oob_score': False,\n",
       " 'random_state': None,\n",
       " 'verbose': 0,\n",
       " 'warm_start': False}"
      ]
     },
     "execution_count": 34,
     "metadata": {},
     "output_type": "execute_result"
    }
   ],
   "source": [
    "model_rand_for = RandomForestClassifier()\n",
    "model_rand_for.get_params()"
   ]
  },
  {
   "cell_type": "code",
   "execution_count": 36,
   "id": "f46b9ddf",
   "metadata": {},
   "outputs": [
    {
     "name": "stdout",
     "output_type": "stream",
     "text": [
      "Best Parameters:\n",
      "{'max_depth': 7, 'max_features': 41, 'min_samples_leaf': 3}\n",
      "Best estimator mean cross validated training score:\n",
      "0.6696545284780578\n",
      "Best estimator score on the full training set:\n",
      "0.8381201044386423\n",
      "Best estimator score on the test set:\n",
      "0.6747720364741642\n"
     ]
    }
   ],
   "source": [
    "params = {'max_features': range(1,50,5),\n",
    "          'max_depth': range(1,10,1),\n",
    "          'min_samples_leaf': range(1,10,1)}\n",
    "\n",
    "model_rand_for = RandomForestClassifier()\n",
    "gs_RF = GridSearchCV(estimator=model_rand_for,\n",
    "                  param_grid=params,\n",
    "                  cv=5,\n",
    "                  scoring='accuracy',\n",
    "                  return_train_score=True)\n",
    "\n",
    "gs_RF.fit(X_train, y_train)\n",
    "\n",
    "# extract the grid search results\n",
    "\n",
    "print('Best Parameters:')\n",
    "print(gs_RF.best_params_)\n",
    "print('Best estimator mean cross validated training score:')\n",
    "print(gs_RF.best_score_)\n",
    "print('Best estimator score on the full training set:')\n",
    "print(gs_RF.score(X_train, y_train))\n",
    "print('Best estimator score on the test set:')\n",
    "print(gs_RF.score(X_test, y_test))"
   ]
  },
  {
   "cell_type": "code",
   "execution_count": 48,
   "id": "f6e47408",
   "metadata": {},
   "outputs": [
    {
     "data": {
      "image/png": "[encoded data removed]",
      "text/plain": [
       "<Figure size 576x576 with 2 Axes>"
      ]
     },
     "metadata": {
      "needs_background": "light"
     },
     "output_type": "display_data"
    }
   ],
   "source": [
    "predictions_LogR_train = gs_LogR.predict(X_train)\n",
    "predictions_LogR_test = gs_LogR.predict(X_test)\n",
    "\n",
    "skplt.metrics.plot_confusion_matrix(y_test, predictions_LogR_test, labels=[0,1,2], figsize=(8, 8))\n",
    "plt.show()"
   ]
  },
  {
   "cell_type": "code",
   "execution_count": 38,
   "id": "b4726042",
   "metadata": {},
   "outputs": [
    {
     "data": {
      "text/plain": [
       "(329,)"
      ]
     },
     "execution_count": 38,
     "metadata": {},
     "output_type": "execute_result"
    }
   ],
   "source": [
    "y_test.shape"
   ]
  },
  {
   "cell_type": "code",
   "execution_count": 49,
   "id": "82e258c5",
   "metadata": {},
   "outputs": [
    {
     "name": "stdout",
     "output_type": "stream",
     "text": [
      "              precision    recall  f1-score   support\n",
      "\n",
      "           0       0.76      0.85      0.80       149\n",
      "           1       0.64      0.84      0.73       123\n",
      "           2       0.00      0.00      0.00        57\n",
      "\n",
      "    accuracy                           0.70       329\n",
      "   macro avg       0.47      0.56      0.51       329\n",
      "weighted avg       0.58      0.70      0.63       329\n",
      "\n"
     ]
    },
    {
     "name": "stderr",
     "output_type": "stream",
     "text": [
      "/Applications/anaconda3/lib/python3.8/site-packages/sklearn/metrics/_classification.py:1245: UndefinedMetricWarning: Precision and F-score are ill-defined and being set to 0.0 in labels with no predicted samples. Use `zero_division` parameter to control this behavior.\n",
      "  _warn_prf(average, modifier, msg_start, len(result))\n",
      "/Applications/anaconda3/lib/python3.8/site-packages/sklearn/metrics/_classification.py:1245: UndefinedMetricWarning: Precision and F-score are ill-defined and being set to 0.0 in labels with no predicted samples. Use `zero_division` parameter to control this behavior.\n",
      "  _warn_prf(average, modifier, msg_start, len(result))\n",
      "/Applications/anaconda3/lib/python3.8/site-packages/sklearn/metrics/_classification.py:1245: UndefinedMetricWarning: Precision and F-score are ill-defined and being set to 0.0 in labels with no predicted samples. Use `zero_division` parameter to control this behavior.\n",
      "  _warn_prf(average, modifier, msg_start, len(result))\n"
     ]
    }
   ],
   "source": [
    "print(classification_report(y_test, predictions_LogR_test))"
   ]
  },
  {
   "cell_type": "code",
   "execution_count": 50,
   "id": "aa4c8d4b",
   "metadata": {},
   "outputs": [
    {
     "data": {
      "image/png": "[encoded data removed]",
      "text/plain": [
       "<Figure size 432x288 with 1 Axes>"
      ]
     },
     "metadata": {
      "needs_background": "light"
     },
     "output_type": "display_data"
    },
    {
     "data": {
      "image/png": "[encoded data removed]",
      "text/plain": [
       "<Figure size 432x288 with 1 Axes>"
      ]
     },
     "metadata": {
      "needs_background": "light"
     },
     "output_type": "display_data"
    }
   ],
   "source": [
    "probabilities_train = gs_LogR.predict_proba(X_train)\n",
    "probabilities_test = gs_LogR.predict_proba(X_test)\n",
    "\n",
    "skplt.metrics.plot_precision_recall(y_train, probabilities_train, cmap=cmap)\n",
    "plt.show()\n",
    "\n",
    "skplt.metrics.plot_precision_recall(y_test, probabilities_test, cmap=cmap)\n",
    "plt.show()"
   ]
  },
  {
   "cell_type": "code",
   "execution_count": 51,
   "id": "9a56ea6a",
   "metadata": {},
   "outputs": [
    {
     "data": {
      "image/png": "[encoded data removed]",
      "text/plain": [
       "<Figure size 432x288 with 1 Axes>"
      ]
     },
     "metadata": {
      "needs_background": "light"
     },
     "output_type": "display_data"
    },
    {
     "data": {
      "image/png": "[encoded data removed]",
      "text/plain": [
       "<Figure size 432x288 with 1 Axes>"
      ]
     },
     "metadata": {
      "needs_background": "light"
     },
     "output_type": "display_data"
    }
   ],
   "source": [
    "skplt.metrics.plot_roc(y_train, probabilities_train, cmap=cmap)\n",
    "plt.show()\n",
    "skplt.metrics.plot_roc(y_test, probabilities_test, cmap=cmap)\n",
    "plt.show()"
   ]
  },
  {
   "cell_type": "code",
   "execution_count": 59,
   "id": "0517ee43",
   "metadata": {},
   "outputs": [
    {
     "ename": "AttributeError",
     "evalue": "'LogisticRegression' object has no attribute 'feature_importances_'",
     "output_type": "error",
     "traceback": [
      "\u001b[0;31m---------------------------------------------------------------------------\u001b[0m",
      "\u001b[0;31mAttributeError\u001b[0m                            Traceback (most recent call last)",
      "\u001b[0;32m<ipython-input-59-eef7eff5e9a3>\u001b[0m in \u001b[0;36m<module>\u001b[0;34m\u001b[0m\n\u001b[0;32m----> 1\u001b[0;31m \u001b[0mgs_LogR\u001b[0m\u001b[0;34m.\u001b[0m\u001b[0mbest_estimator_\u001b[0m\u001b[0;34m.\u001b[0m\u001b[0mfeature_importances_\u001b[0m\u001b[0;34m\u001b[0m\u001b[0;34m\u001b[0m\u001b[0m\n\u001b[0m",
      "\u001b[0;31mAttributeError\u001b[0m: 'LogisticRegression' object has no attribute 'feature_importances_'"
     ]
    }
   ],
   "source": [
    "gs_LogR.best_estimator_.feature_importances_"
   ]
  },
  {
   "cell_type": "code",
   "execution_count": 60,
   "id": "ba7a6f4d",
   "metadata": {},
   "outputs": [
    {
     "data": {
      "image/png": "[encoded data removed]",
      "text/plain": [
       "<Figure size 720x864 with 1 Axes>"
      ]
     },
     "metadata": {
      "needs_background": "light"
     },
     "output_type": "display_data"
    }
   ],
   "source": [
    "pd.DataFrame(gs_RF.best_estimator_.feature_importances_,\n",
    "             columns=['importance'],\n",
    "             index=X.columns\n",
    "             ).sort_values(by='importance', ascending=True\n",
    "                           ).plot(kind='barh', figsize=(10, 12))\n",
    "plt.show()"
   ]
  },
  {
   "cell_type": "code",
   "execution_count": 46,
   "id": "caf48c3c",
   "metadata": {},
   "outputs": [
    {
     "name": "stdout",
     "output_type": "stream",
     "text": [
      "0.6762402088772846\n",
      "0.693100233100233\n",
      "0.6717325227963525\n"
     ]
    }
   ],
   "source": [
    "# knn model\n",
    "\n",
    "model_KNN = KNeighborsClassifier(n_neighbors=12)\n",
    "model_KNN.fit(X_train,y_train)\n",
    "predictions = model_KNN.predict(X_test)\n",
    "cv_scores_knn = cross_val_score(model_KNN, X_test, y_test, cv=5)\n",
    "print(model_KNN.score(X_train, y_train))\n",
    "print(cv_scores_knn.mean())\n",
    "print(accuracy_score(predictions,y_test))"
   ]
  },
  {
   "cell_type": "code",
   "execution_count": 47,
   "id": "62970cd5",
   "metadata": {},
   "outputs": [
    {
     "name": "stdout",
     "output_type": "stream",
     "text": [
      "0.6514360313315927\n",
      "0.6566433566433567\n",
      "0.6717325227963525\n"
     ]
    }
   ],
   "source": [
    "# bayes model\n",
    "\n",
    "model_NB = naive_bayes.BernoulliNB()\n",
    "model_NB.fit(X_train, y_train)\n",
    "print(model_NB.score(X_train,y_train))\n",
    "print(cross_val_score(model_NB, X_test, y_test).mean())\n",
    "print(model_NB.score(X_test,y_test))"
   ]
  }
 ],
 "metadata": {
  "kernelspec": {
   "display_name": "Python 3",
   "language": "python",
   "name": "python3"
  },
  "language_info": {
   "codemirror_mode": {
    "name": "ipython",
    "version": 3
   },
   "file_extension": ".py",
   "mimetype": "text/x-python",
   "name": "python",
   "nbconvert_exporter": "python",
   "pygments_lexer": "ipython3",
   "version": "3.8.8"
  }
 },
 "nbformat": 4,
 "nbformat_minor": 5
}
